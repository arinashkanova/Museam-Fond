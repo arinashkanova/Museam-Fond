{
 "cells": [
  {
   "cell_type": "code",
   "execution_count": 2,
   "metadata": {
    "executionInfo": {
     "elapsed": 1878,
     "status": "ok",
     "timestamp": 1628785925074,
     "user": {
      "displayName": "Арина Шканова",
      "photoUrl": "",
      "userId": "05102528162079813689"
     },
     "user_tz": -180
    },
    "id": "kve26FQ6j51n"
   },
   "outputs": [],
   "source": [
    "import pandas as pd\n",
    "import numpy as np\n",
    "\n",
    "import nltk\n",
    "from sklearn.feature_extraction.text import TfidfVectorizer, CountVectorizer\n",
    "from sklearn.preprocessing import LabelEncoder\n",
    "\n",
    "import re"
   ]
  },
  {
   "cell_type": "code",
   "execution_count": 3,
   "metadata": {
    "colab": {
     "base_uri": "https://localhost:8080/",
     "height": 306
    },
    "executionInfo": {
     "elapsed": 3288,
     "status": "ok",
     "timestamp": 1628785928358,
     "user": {
      "displayName": "Арина Шканова",
      "photoUrl": "",
      "userId": "05102528162079813689"
     },
     "user_tz": -180
    },
    "id": "ZejPXiK3kFaL",
    "outputId": "2b513249-b696-4a0e-c52f-6f673bbe47ed"
   },
   "outputs": [
    {
     "name": "stdout",
     "output_type": "stream",
     "text": [
      "(197202, 4)\n"
     ]
    },
    {
     "data": {
      "text/html": [
       "<div>\n",
       "<style scoped>\n",
       "    .dataframe tbody tr th:only-of-type {\n",
       "        vertical-align: middle;\n",
       "    }\n",
       "\n",
       "    .dataframe tbody tr th {\n",
       "        vertical-align: top;\n",
       "    }\n",
       "\n",
       "    .dataframe thead th {\n",
       "        text-align: right;\n",
       "    }\n",
       "</style>\n",
       "<table border=\"1\" class=\"dataframe\">\n",
       "  <thead>\n",
       "    <tr style=\"text-align: right;\">\n",
       "      <th></th>\n",
       "      <th>guid</th>\n",
       "      <th>description</th>\n",
       "      <th>typology</th>\n",
       "      <th>url</th>\n",
       "    </tr>\n",
       "  </thead>\n",
       "  <tbody>\n",
       "    <tr>\n",
       "      <th>197197</th>\n",
       "      <td>0313dde2-b5bd-4a1a-b7ef-63436ad975ad</td>\n",
       "      <td>Фото ч/б матов. групповое  с фигурными краями ...</td>\n",
       "      <td>фотографии и негативы</td>\n",
       "      <td>http://goskatalog.ru/muzfo-imaginator/rest/ima...</td>\n",
       "    </tr>\n",
       "    <tr>\n",
       "      <th>197198</th>\n",
       "      <td>669ecd91-4197-4734-a9a9-7cb79d4af9d3</td>\n",
       "      <td>Открытое письмо  «Петродворец. Вид на Аллею фо...</td>\n",
       "      <td>предметы печатной продукции</td>\n",
       "      <td>http://goskatalog.ru/muzfo-imaginator/rest/ima...</td>\n",
       "    </tr>\n",
       "    <tr>\n",
       "      <th>197199</th>\n",
       "      <td>07ca9b7c-efea-49e3-8db8-e69e9a079bb4</td>\n",
       "      <td>Фото черно-белое. Художник Алексей Як. Кольцов...</td>\n",
       "      <td>фотографии и негативы</td>\n",
       "      <td>http://goskatalog.ru/muzfo-imaginator/rest/ima...</td>\n",
       "    </tr>\n",
       "    <tr>\n",
       "      <th>197200</th>\n",
       "      <td>c0df1cb4-1ceb-47ea-873e-6d96fc5a1a95</td>\n",
       "      <td>Грампластинка.</td>\n",
       "      <td>прочие</td>\n",
       "      <td>http://goskatalog.ru/muzfo-imaginator/rest/ima...</td>\n",
       "    </tr>\n",
       "    <tr>\n",
       "      <th>197201</th>\n",
       "      <td>139530c4-6d48-44ac-9ef7-da16dcacb3e1</td>\n",
       "      <td>Этикетка спичечная коллекционная. Амурский тигр</td>\n",
       "      <td>прочие</td>\n",
       "      <td>http://goskatalog.ru/muzfo-imaginator/rest/ima...</td>\n",
       "    </tr>\n",
       "  </tbody>\n",
       "</table>\n",
       "</div>"
      ],
      "text/plain": [
       "                                        guid  ...                                                url\n",
       "197197  0313dde2-b5bd-4a1a-b7ef-63436ad975ad  ...  http://goskatalog.ru/muzfo-imaginator/rest/ima...\n",
       "197198  669ecd91-4197-4734-a9a9-7cb79d4af9d3  ...  http://goskatalog.ru/muzfo-imaginator/rest/ima...\n",
       "197199  07ca9b7c-efea-49e3-8db8-e69e9a079bb4  ...  http://goskatalog.ru/muzfo-imaginator/rest/ima...\n",
       "197200  c0df1cb4-1ceb-47ea-873e-6d96fc5a1a95  ...  http://goskatalog.ru/muzfo-imaginator/rest/ima...\n",
       "197201  139530c4-6d48-44ac-9ef7-da16dcacb3e1  ...  http://goskatalog.ru/muzfo-imaginator/rest/ima...\n",
       "\n",
       "[5 rows x 4 columns]"
      ]
     },
     "execution_count": 3,
     "metadata": {
      "tags": []
     },
     "output_type": "execute_result"
    }
   ],
   "source": [
    "url_data=pd.read_csv('train_url_only.csv')\n",
    "print(url_data.shape)\n",
    "url_data.tail()"
   ]
  },
  {
   "cell_type": "code",
   "execution_count": 5,
   "metadata": {
    "colab": {
     "base_uri": "https://localhost:8080/",
     "height": 221
    },
    "executionInfo": {
     "elapsed": 643,
     "status": "ok",
     "timestamp": 1628785962106,
     "user": {
      "displayName": "Арина Шканова",
      "photoUrl": "",
      "userId": "05102528162079813689"
     },
     "user_tz": -180
    },
    "id": "Pf-Oeoih0mOJ",
    "outputId": "961c81c8-6cc4-48f3-e72c-e678bd39fb3a"
   },
   "outputs": [
    {
     "name": "stdout",
     "output_type": "stream",
     "text": [
      "(179802, 2)\n"
     ]
    },
    {
     "data": {
      "text/html": [
       "<div>\n",
       "<style scoped>\n",
       "    .dataframe tbody tr th:only-of-type {\n",
       "        vertical-align: middle;\n",
       "    }\n",
       "\n",
       "    .dataframe tbody tr th {\n",
       "        vertical-align: top;\n",
       "    }\n",
       "\n",
       "    .dataframe thead th {\n",
       "        text-align: right;\n",
       "    }\n",
       "</style>\n",
       "<table border=\"1\" class=\"dataframe\">\n",
       "  <thead>\n",
       "    <tr style=\"text-align: right;\">\n",
       "      <th></th>\n",
       "      <th>description</th>\n",
       "      <th>enpology</th>\n",
       "    </tr>\n",
       "  </thead>\n",
       "  <tbody>\n",
       "    <tr>\n",
       "      <th>179797</th>\n",
       "      <td>фото матов групповое фигурными краями подл ган...</td>\n",
       "      <td>14</td>\n",
       "    </tr>\n",
       "    <tr>\n",
       "      <th>179798</th>\n",
       "      <td>открытое письмо петродворец вид аллею фонтанов</td>\n",
       "      <td>8</td>\n",
       "    </tr>\n",
       "    <tr>\n",
       "      <th>179799</th>\n",
       "      <td>фото черно белое художник алексей кольцов фото...</td>\n",
       "      <td>14</td>\n",
       "    </tr>\n",
       "    <tr>\n",
       "      <th>179800</th>\n",
       "      <td>грампластинка</td>\n",
       "      <td>11</td>\n",
       "    </tr>\n",
       "    <tr>\n",
       "      <th>179801</th>\n",
       "      <td>этикетка спичечная коллекционная амурский тигр</td>\n",
       "      <td>11</td>\n",
       "    </tr>\n",
       "  </tbody>\n",
       "</table>\n",
       "</div>"
      ],
      "text/plain": [
       "                                              description  enpology\n",
       "179797  фото матов групповое фигурными краями подл ган...        14\n",
       "179798     открытое письмо петродворец вид аллею фонтанов         8\n",
       "179799  фото черно белое художник алексей кольцов фото...        14\n",
       "179800                                      грампластинка        11\n",
       "179801     этикетка спичечная коллекционная амурский тигр        11"
      ]
     },
     "execution_count": 5,
     "metadata": {
      "tags": []
     },
     "output_type": "execute_result"
    }
   ],
   "source": [
    "clean_description_big=pd.read_csv('clean_description_big.csv')\n",
    "print(clean_description_big.shape)\n",
    "clean_description_big.tail()"
   ]
  },
  {
   "cell_type": "code",
   "execution_count": 6,
   "metadata": {
    "colab": {
     "base_uri": "https://localhost:8080/"
    },
    "executionInfo": {
     "elapsed": 288,
     "status": "ok",
     "timestamp": 1628785995454,
     "user": {
      "displayName": "Арина Шканова",
      "photoUrl": "",
      "userId": "05102528162079813689"
     },
     "user_tz": -180
    },
    "id": "TcyI5tC8kdB4",
    "outputId": "be281306-9266-407c-84a3-900f4b280f87"
   },
   "outputs": [
    {
     "data": {
      "text/plain": [
       "description    1128\n",
       "enpology          0\n",
       "dtype: int64"
      ]
     },
     "execution_count": 6,
     "metadata": {
      "tags": []
     },
     "output_type": "execute_result"
    }
   ],
   "source": [
    "clean_description_big.isnull().sum()"
   ]
  },
  {
   "cell_type": "code",
   "execution_count": 7,
   "metadata": {
    "colab": {
     "base_uri": "https://localhost:8080/"
    },
    "executionInfo": {
     "elapsed": 322,
     "status": "ok",
     "timestamp": 1628785996165,
     "user": {
      "displayName": "Арина Шканова",
      "photoUrl": "",
      "userId": "05102528162079813689"
     },
     "user_tz": -180
    },
    "id": "PBrV_fYf77Ju",
    "outputId": "457e336c-91e5-46a8-c326-376ba11ba602"
   },
   "outputs": [
    {
     "data": {
      "text/plain": [
       "(179845, 4)"
      ]
     },
     "execution_count": 7,
     "metadata": {
      "tags": []
     },
     "output_type": "execute_result"
    }
   ],
   "source": [
    "url_data = url_data.dropna()\n",
    "url_data.isnull().sum()\n",
    "url_data.shape"
   ]
  },
  {
   "cell_type": "code",
   "execution_count": 8,
   "metadata": {
    "executionInfo": {
     "elapsed": 1,
     "status": "ok",
     "timestamp": 1628785997100,
     "user": {
      "displayName": "Арина Шканова",
      "photoUrl": "",
      "userId": "05102528162079813689"
     },
     "user_tz": -180
    },
    "id": "hxt770uI-u0J"
   },
   "outputs": [],
   "source": [
    "url_data = url_data[url_data.typology != 'предметы прикладного искусства, быта и этнографии ']\n",
    "url_data = url_data[url_data.typology != 'предметы этнографии']\n",
    "url_data = url_data[url_data.typology != 'Фотографии']\n",
    "url_data = url_data[url_data.typology != 'документы, редкие книги']\n",
    "url_data = url_data[url_data.typology != 'изделия прикладного искусства']"
   ]
  },
  {
   "cell_type": "code",
   "execution_count": 9,
   "metadata": {
    "colab": {
     "base_uri": "https://localhost:8080/"
    },
    "executionInfo": {
     "elapsed": 509,
     "status": "ok",
     "timestamp": 1628785998395,
     "user": {
      "displayName": "Арина Шканова",
      "photoUrl": "",
      "userId": "05102528162079813689"
     },
     "user_tz": -180
    },
    "id": "jow-VKQjlSTC",
    "outputId": "9f934ece-777f-4953-fe90-240ad90029d0"
   },
   "outputs": [
    {
     "data": {
      "text/plain": [
       "фотографии и негативы                                28766\n",
       "документы                                            24178\n",
       "предметы археологии                                  22569\n",
       "предметы нумизматики                                 21570\n",
       "предметы прикладного искусства, быта и этнографии    21326\n",
       "предметы печатной продукции                          19739\n",
       "графика                                              14064\n",
       "прочие                                                8265\n",
       "редкие книги                                          7681\n",
       "предметы естественнонаучной коллекции                 4120\n",
       "живопись                                              3400\n",
       "предметы техники                                      1509\n",
       "предметы минералогической коллекции                   1402\n",
       "оружие                                                 709\n",
       "скульптура                                             504\n",
       "Name: typology, dtype: int64"
      ]
     },
     "execution_count": 9,
     "metadata": {
      "tags": []
     },
     "output_type": "execute_result"
    }
   ],
   "source": [
    "url_data['typology'].value_counts()"
   ]
  },
  {
   "cell_type": "code",
   "execution_count": 10,
   "metadata": {
    "colab": {
     "base_uri": "https://localhost:8080/",
     "height": 289
    },
    "executionInfo": {
     "elapsed": 2,
     "status": "ok",
     "timestamp": 1628786000122,
     "user": {
      "displayName": "Арина Шканова",
      "photoUrl": "",
      "userId": "05102528162079813689"
     },
     "user_tz": -180
    },
    "id": "UqmxBRkh_wIH",
    "outputId": "0af0f184-87c9-450a-bdb2-4821d7b79498"
   },
   "outputs": [
    {
     "data": {
      "text/html": [
       "<div>\n",
       "<style scoped>\n",
       "    .dataframe tbody tr th:only-of-type {\n",
       "        vertical-align: middle;\n",
       "    }\n",
       "\n",
       "    .dataframe tbody tr th {\n",
       "        vertical-align: top;\n",
       "    }\n",
       "\n",
       "    .dataframe thead th {\n",
       "        text-align: right;\n",
       "    }\n",
       "</style>\n",
       "<table border=\"1\" class=\"dataframe\">\n",
       "  <thead>\n",
       "    <tr style=\"text-align: right;\">\n",
       "      <th></th>\n",
       "      <th>guid</th>\n",
       "      <th>description</th>\n",
       "      <th>typology</th>\n",
       "      <th>url</th>\n",
       "      <th>typology_encoded</th>\n",
       "    </tr>\n",
       "  </thead>\n",
       "  <tbody>\n",
       "    <tr>\n",
       "      <th>1</th>\n",
       "      <td>43854438-31d8-4551-b3bb-73d44c02dc95</td>\n",
       "      <td>Открытка почтовая: \"Воен. Гр. Дор. Гора Казбек\".</td>\n",
       "      <td>прочие</td>\n",
       "      <td>http://goskatalog.ru/muzfo-imaginator/rest/ima...</td>\n",
       "      <td>11</td>\n",
       "    </tr>\n",
       "    <tr>\n",
       "      <th>9</th>\n",
       "      <td>4ed27265-a5b0-4a60-8501-ed1652e2c9fc</td>\n",
       "      <td>Портрет Павла Давыдовича Эттингера, гравюра</td>\n",
       "      <td>графика</td>\n",
       "      <td>http://goskatalog.ru/muzfo-imaginator/rest/ima...</td>\n",
       "      <td>0</td>\n",
       "    </tr>\n",
       "    <tr>\n",
       "      <th>11</th>\n",
       "      <td>aecd8cda-2fc3-4fe4-8031-6f5745b148cf</td>\n",
       "      <td>Открытка почтовая: Железноводск. Гора Железная.</td>\n",
       "      <td>прочие</td>\n",
       "      <td>http://goskatalog.ru/muzfo-imaginator/rest/ima...</td>\n",
       "      <td>11</td>\n",
       "    </tr>\n",
       "    <tr>\n",
       "      <th>14</th>\n",
       "      <td>20491552-ab61-4dd9-a979-b19254b78205</td>\n",
       "      <td>Домик в Галерной гавани, гравюра</td>\n",
       "      <td>графика</td>\n",
       "      <td>http://goskatalog.ru/muzfo-imaginator/rest/ima...</td>\n",
       "      <td>0</td>\n",
       "    </tr>\n",
       "    <tr>\n",
       "      <th>19</th>\n",
       "      <td>49fa0182-c27e-4c22-9995-420ca1ba427e</td>\n",
       "      <td>Фотография членов с\\х артели имени Подтелкова ...</td>\n",
       "      <td>прочие</td>\n",
       "      <td>http://goskatalog.ru/muzfo-imaginator/rest/ima...</td>\n",
       "      <td>11</td>\n",
       "    </tr>\n",
       "  </tbody>\n",
       "</table>\n",
       "</div>"
      ],
      "text/plain": [
       "                                    guid  ... typology_encoded\n",
       "1   43854438-31d8-4551-b3bb-73d44c02dc95  ...               11\n",
       "9   4ed27265-a5b0-4a60-8501-ed1652e2c9fc  ...                0\n",
       "11  aecd8cda-2fc3-4fe4-8031-6f5745b148cf  ...               11\n",
       "14  20491552-ab61-4dd9-a979-b19254b78205  ...                0\n",
       "19  49fa0182-c27e-4c22-9995-420ca1ba427e  ...               11\n",
       "\n",
       "[5 rows x 5 columns]"
      ]
     },
     "execution_count": 10,
     "metadata": {
      "tags": []
     },
     "output_type": "execute_result"
    }
   ],
   "source": [
    "le = LabelEncoder()\n",
    "url_data['typology_encoded'] = le.fit_transform(url_data['typology'])\n",
    "url_data.head()"
   ]
  },
  {
   "cell_type": "code",
   "execution_count": 12,
   "metadata": {
    "colab": {
     "base_uri": "https://localhost:8080/"
    },
    "executionInfo": {
     "elapsed": 322,
     "status": "ok",
     "timestamp": 1628786097479,
     "user": {
      "displayName": "Арина Шканова",
      "photoUrl": "",
      "userId": "05102528162079813689"
     },
     "user_tz": -180
    },
    "id": "dg2AX88qNhQn",
    "outputId": "ed15af26-9f9e-4e22-b32a-333f273e1abf"
   },
   "outputs": [
    {
     "data": {
      "text/plain": [
       "{'графика': 0,\n",
       " 'документы': 1,\n",
       " 'живопись': 2,\n",
       " 'оружие': 3,\n",
       " 'предметы археологии': 4,\n",
       " 'предметы естественнонаучной коллекции': 5,\n",
       " 'предметы минералогической коллекции': 6,\n",
       " 'предметы нумизматики': 7,\n",
       " 'предметы печатной продукции': 8,\n",
       " 'предметы прикладного искусства, быта и этнографии': 9,\n",
       " 'предметы техники': 10,\n",
       " 'прочие': 11,\n",
       " 'редкие книги': 12,\n",
       " 'скульптура': 13,\n",
       " 'фотографии и негативы': 14}"
      ]
     },
     "execution_count": 12,
     "metadata": {
      "tags": []
     },
     "output_type": "execute_result"
    }
   ],
   "source": [
    "dict(zip(url_data['typology'], url_data['typology_encoded']))"
   ]
  },
  {
   "cell_type": "code",
   "execution_count": null,
   "metadata": {
    "colab": {
     "base_uri": "https://localhost:8080/"
    },
    "executionInfo": {
     "elapsed": 438,
     "status": "ok",
     "timestamp": 1628498018811,
     "user": {
      "displayName": "Арина Шканова",
      "photoUrl": "",
      "userId": "05102528162079813689"
     },
     "user_tz": -180
    },
    "id": "7WvCdySLCzqa",
    "outputId": "9735d8af-0b61-4ac1-9b74-cc431ff59e85"
   },
   "outputs": [
    {
     "data": {
      "text/plain": [
       "14    28766\n",
       "1     24178\n",
       "4     22569\n",
       "7     21570\n",
       "9     21326\n",
       "8     19739\n",
       "0     14064\n",
       "11     8265\n",
       "12     7681\n",
       "5      4120\n",
       "2      3400\n",
       "10     1509\n",
       "6      1402\n",
       "3       709\n",
       "13      504\n",
       "Name: typology_encoded, dtype: int64"
      ]
     },
     "execution_count": 8,
     "metadata": {
      "tags": []
     },
     "output_type": "execute_result"
    }
   ],
   "source": [
    "url_data['typology_encoded'].value_counts()"
   ]
  },
  {
   "cell_type": "code",
   "execution_count": null,
   "metadata": {
    "id": "oQdH0WGb-2ht"
   },
   "outputs": [],
   "source": [
    "url_data = url_data.drop(['guid', 'typology', 'url'], axis=1)"
   ]
  },
  {
   "cell_type": "code",
   "execution_count": null,
   "metadata": {
    "colab": {
     "base_uri": "https://localhost:8080/",
     "height": 376
    },
    "executionInfo": {
     "elapsed": 42,
     "status": "ok",
     "timestamp": 1628498302587,
     "user": {
      "displayName": "Арина Шканова",
      "photoUrl": "",
      "userId": "05102528162079813689"
     },
     "user_tz": -180
    },
    "id": "fVYjuWX0_u8F",
    "outputId": "c7e8f925-3a79-4c63-e81d-b5c448b3b0c6"
   },
   "outputs": [
    {
     "name": "stdout",
     "output_type": "stream",
     "text": [
      "(179802, 2)\n"
     ]
    },
    {
     "data": {
      "text/html": [
       "<div>\n",
       "<style scoped>\n",
       "    .dataframe tbody tr th:only-of-type {\n",
       "        vertical-align: middle;\n",
       "    }\n",
       "\n",
       "    .dataframe tbody tr th {\n",
       "        vertical-align: top;\n",
       "    }\n",
       "\n",
       "    .dataframe thead th {\n",
       "        text-align: right;\n",
       "    }\n",
       "</style>\n",
       "<table border=\"1\" class=\"dataframe\">\n",
       "  <thead>\n",
       "    <tr style=\"text-align: right;\">\n",
       "      <th></th>\n",
       "      <th>description</th>\n",
       "      <th>typology_encoded</th>\n",
       "    </tr>\n",
       "  </thead>\n",
       "  <tbody>\n",
       "    <tr>\n",
       "      <th>1</th>\n",
       "      <td>Открытка почтовая: \"Воен. Гр. Дор. Гора Казбек\".</td>\n",
       "      <td>11</td>\n",
       "    </tr>\n",
       "    <tr>\n",
       "      <th>9</th>\n",
       "      <td>Портрет Павла Давыдовича Эттингера, гравюра</td>\n",
       "      <td>0</td>\n",
       "    </tr>\n",
       "    <tr>\n",
       "      <th>11</th>\n",
       "      <td>Открытка почтовая: Железноводск. Гора Железная.</td>\n",
       "      <td>11</td>\n",
       "    </tr>\n",
       "    <tr>\n",
       "      <th>14</th>\n",
       "      <td>Домик в Галерной гавани, гравюра</td>\n",
       "      <td>0</td>\n",
       "    </tr>\n",
       "    <tr>\n",
       "      <th>19</th>\n",
       "      <td>Фотография членов с\\х артели имени Подтелкова ...</td>\n",
       "      <td>11</td>\n",
       "    </tr>\n",
       "    <tr>\n",
       "      <th>29</th>\n",
       "      <td>Книга «Святцы»</td>\n",
       "      <td>12</td>\n",
       "    </tr>\n",
       "    <tr>\n",
       "      <th>31</th>\n",
       "      <td>Казанский собор, гравюра</td>\n",
       "      <td>0</td>\n",
       "    </tr>\n",
       "    <tr>\n",
       "      <th>34</th>\n",
       "      <td>Приложение к диплому № 146652</td>\n",
       "      <td>1</td>\n",
       "    </tr>\n",
       "    <tr>\n",
       "      <th>36</th>\n",
       "      <td>Открытка почтовая:  Железноводск. Пушкинская г...</td>\n",
       "      <td>11</td>\n",
       "    </tr>\n",
       "    <tr>\n",
       "      <th>49</th>\n",
       "      <td>Монета (номинал 1 рубль)</td>\n",
       "      <td>7</td>\n",
       "    </tr>\n",
       "  </tbody>\n",
       "</table>\n",
       "</div>"
      ],
      "text/plain": [
       "                                          description  typology_encoded\n",
       "1    Открытка почтовая: \"Воен. Гр. Дор. Гора Казбек\".                11\n",
       "9         Портрет Павла Давыдовича Эттингера, гравюра                 0\n",
       "11    Открытка почтовая: Железноводск. Гора Железная.                11\n",
       "14                   Домик в Галерной гавани, гравюра                 0\n",
       "19  Фотография членов с\\х артели имени Подтелкова ...                11\n",
       "29                                     Книга «Святцы»                12\n",
       "31                           Казанский собор, гравюра                 0\n",
       "34                      Приложение к диплому № 146652                 1\n",
       "36  Открытка почтовая:  Железноводск. Пушкинская г...                11\n",
       "49                           Монета (номинал 1 рубль)                 7"
      ]
     },
     "execution_count": 10,
     "metadata": {
      "tags": []
     },
     "output_type": "execute_result"
    }
   ],
   "source": [
    "print(url_data.shape)\n",
    "url_data.head(10)"
   ]
  },
  {
   "cell_type": "code",
   "execution_count": null,
   "metadata": {
    "id": "bcH8TXifBpsW"
   },
   "outputs": [],
   "source": [
    "#Removing the html strips\n",
    "def strip_html(text):\n",
    "    return re.sub(r'http\\S+', \" \", text)\n",
    "\n",
    "#Removing the square brackets\n",
    "def remove_between_square_brackets(text):\n",
    "    return re.sub('\\[[^]]*\\]', '', text)\n",
    "\n",
    "def remove_between_quotes(text):\n",
    "    return re.sub(r'\".*?\"', '\" \"', text)\n",
    "\n",
    "#Removing the noisy text\n",
    "def denoise_text(text):\n",
    "    text = strip_html(text)\n",
    "    text = remove_between_square_brackets(text)\n",
    "    text = remove_between_quotes(text)\n",
    "    return text\n",
    "#Apply function on review column\n",
    "url_data['description']=url_data['description'].apply(denoise_text)"
   ]
  },
  {
   "cell_type": "code",
   "execution_count": null,
   "metadata": {
    "colab": {
     "base_uri": "https://localhost:8080/"
    },
    "executionInfo": {
     "elapsed": 5,
     "status": "ok",
     "timestamp": 1628498307328,
     "user": {
      "displayName": "Арина Шканова",
      "photoUrl": "",
      "userId": "05102528162079813689"
     },
     "user_tz": -180
    },
    "id": "u6XoipNLCzQb",
    "outputId": "66f9377a-8c29-47b0-a5c2-422eff7babb2"
   },
   "outputs": [
    {
     "data": {
      "text/plain": [
       "1                               Открытка почтовая: \" \".\n",
       "9           Портрет Павла Давыдовича Эттингера, гравюра\n",
       "11      Открытка почтовая: Железноводск. Гора Железная.\n",
       "14                     Домик в Галерной гавани, гравюра\n",
       "19    Фотография членов с\\х артели имени Подтелкова ...\n",
       "29                                       Книга «Святцы»\n",
       "31                             Казанский собор, гравюра\n",
       "34                        Приложение к диплому № 146652\n",
       "36    Открытка почтовая:  Железноводск. Пушкинская г...\n",
       "49                             Монета (номинал 1 рубль)\n",
       "Name: description, dtype: object"
      ]
     },
     "execution_count": 12,
     "metadata": {
      "tags": []
     },
     "output_type": "execute_result"
    }
   ],
   "source": [
    "url_data['description'].head(10)"
   ]
  },
  {
   "cell_type": "code",
   "execution_count": null,
   "metadata": {
    "id": "gYqINUX3lvez"
   },
   "outputs": [],
   "source": [
    "def clean(text):\n",
    "    text = text.lower()\n",
    "    text = re.sub(r'\\[[^]]*\\]', '', text)\n",
    "    text = re.sub(r'[^\\w\\s]', ' ', text)#знаки препинания\n",
    "    text = re.sub(r'\\d+', ' ', text)\n",
    "    text = re.sub(r'<*?>',' ', text)\n",
    "    text = re.sub(r'br',' ', text) #любые символы\n",
    "    text = re.sub(r'№',' ', text)\n",
    "    text = re.sub(r'\\n',' ', text)\n",
    "    text = re.sub(r'  ', ' ', text)\n",
    "    return text\n",
    "\n",
    "url_data['description']=url_data['description'].apply(clean)"
   ]
  },
  {
   "cell_type": "code",
   "execution_count": null,
   "metadata": {
    "colab": {
     "base_uri": "https://localhost:8080/"
    },
    "executionInfo": {
     "elapsed": 8,
     "status": "ok",
     "timestamp": 1628498692884,
     "user": {
      "displayName": "Арина Шканова",
      "photoUrl": "",
      "userId": "05102528162079813689"
     },
     "user_tz": -180
    },
    "id": "LACPz7HoIatP",
    "outputId": "ea751183-4c84-459a-d04c-3ec9700a0925"
   },
   "outputs": [
    {
     "data": {
      "text/plain": [
       "1                                  открытка почтовая   \n",
       "9            портрет павла давыдовича эттингера гравюра\n",
       "11        открытка почтовая железноводск гора железная \n",
       "14                      домик в галерной гавани гравюра\n",
       "19    фотография членов с х артели имени подтелкова ...\n",
       "29                                        книга святцы \n",
       "31                              казанский собор гравюра\n",
       "34                               приложение к диплому  \n",
       "36    открытка почтовая  железноводск пушкинская гал...\n",
       "49                               монета номинал  рубль \n",
       "Name: description, dtype: object"
      ]
     },
     "execution_count": 14,
     "metadata": {
      "tags": []
     },
     "output_type": "execute_result"
    }
   ],
   "source": [
    "url_data['description'].head(10)"
   ]
  },
  {
   "cell_type": "code",
   "execution_count": null,
   "metadata": {
    "id": "kVzHt37-Lwrg"
   },
   "outputs": [],
   "source": [
    "url_data['description'] = url_data['description'].apply(lambda x: ' '.join([word for word in x.split() if len(word)>2]))"
   ]
  },
  {
   "cell_type": "code",
   "execution_count": null,
   "metadata": {
    "colab": {
     "base_uri": "https://localhost:8080/",
     "height": 359
    },
    "executionInfo": {
     "elapsed": 9,
     "status": "ok",
     "timestamp": 1628498699824,
     "user": {
      "displayName": "Арина Шканова",
      "photoUrl": "",
      "userId": "05102528162079813689"
     },
     "user_tz": -180
    },
    "id": "75wA9tQSDt91",
    "outputId": "5cf4eab6-5ace-4111-be88-a26b9cf44c3d"
   },
   "outputs": [
    {
     "data": {
      "text/html": [
       "<div>\n",
       "<style scoped>\n",
       "    .dataframe tbody tr th:only-of-type {\n",
       "        vertical-align: middle;\n",
       "    }\n",
       "\n",
       "    .dataframe tbody tr th {\n",
       "        vertical-align: top;\n",
       "    }\n",
       "\n",
       "    .dataframe thead th {\n",
       "        text-align: right;\n",
       "    }\n",
       "</style>\n",
       "<table border=\"1\" class=\"dataframe\">\n",
       "  <thead>\n",
       "    <tr style=\"text-align: right;\">\n",
       "      <th></th>\n",
       "      <th>description</th>\n",
       "      <th>typology_encoded</th>\n",
       "    </tr>\n",
       "  </thead>\n",
       "  <tbody>\n",
       "    <tr>\n",
       "      <th>1</th>\n",
       "      <td>открытка почтовая</td>\n",
       "      <td>11</td>\n",
       "    </tr>\n",
       "    <tr>\n",
       "      <th>9</th>\n",
       "      <td>портрет павла давыдовича эттингера гравюра</td>\n",
       "      <td>0</td>\n",
       "    </tr>\n",
       "    <tr>\n",
       "      <th>11</th>\n",
       "      <td>открытка почтовая железноводск гора железная</td>\n",
       "      <td>11</td>\n",
       "    </tr>\n",
       "    <tr>\n",
       "      <th>14</th>\n",
       "      <td>домик галерной гавани гравюра</td>\n",
       "      <td>0</td>\n",
       "    </tr>\n",
       "    <tr>\n",
       "      <th>19</th>\n",
       "      <td>фотография членов артели имени подтелкова крив...</td>\n",
       "      <td>11</td>\n",
       "    </tr>\n",
       "    <tr>\n",
       "      <th>29</th>\n",
       "      <td>книга святцы</td>\n",
       "      <td>12</td>\n",
       "    </tr>\n",
       "    <tr>\n",
       "      <th>31</th>\n",
       "      <td>казанский собор гравюра</td>\n",
       "      <td>0</td>\n",
       "    </tr>\n",
       "    <tr>\n",
       "      <th>34</th>\n",
       "      <td>приложение диплому</td>\n",
       "      <td>1</td>\n",
       "    </tr>\n",
       "    <tr>\n",
       "      <th>36</th>\n",
       "      <td>открытка почтовая железноводск пушкинская галл...</td>\n",
       "      <td>11</td>\n",
       "    </tr>\n",
       "    <tr>\n",
       "      <th>49</th>\n",
       "      <td>монета номинал рубль</td>\n",
       "      <td>7</td>\n",
       "    </tr>\n",
       "  </tbody>\n",
       "</table>\n",
       "</div>"
      ],
      "text/plain": [
       "                                          description  typology_encoded\n",
       "1                                   открытка почтовая                11\n",
       "9          портрет павла давыдовича эттингера гравюра                 0\n",
       "11       открытка почтовая железноводск гора железная                11\n",
       "14                      домик галерной гавани гравюра                 0\n",
       "19  фотография членов артели имени подтелкова крив...                11\n",
       "29                                       книга святцы                12\n",
       "31                            казанский собор гравюра                 0\n",
       "34                                 приложение диплому                 1\n",
       "36  открытка почтовая железноводск пушкинская галл...                11\n",
       "49                               монета номинал рубль                 7"
      ]
     },
     "execution_count": 16,
     "metadata": {
      "tags": []
     },
     "output_type": "execute_result"
    }
   ],
   "source": [
    "url_data.head(10)"
   ]
  },
  {
   "cell_type": "code",
   "execution_count": null,
   "metadata": {
    "id": "2UwAhKzuuUhm"
   },
   "outputs": [],
   "source": [
    "text = url_data['description'].to_list()"
   ]
  },
  {
   "cell_type": "code",
   "execution_count": null,
   "metadata": {
    "colab": {
     "base_uri": "https://localhost:8080/"
    },
    "executionInfo": {
     "elapsed": 10,
     "status": "ok",
     "timestamp": 1628498701817,
     "user": {
      "displayName": "Арина Шканова",
      "photoUrl": "",
      "userId": "05102528162079813689"
     },
     "user_tz": -180
    },
    "id": "7vc0YtoesRkF",
    "outputId": "feeab2d0-6df0-4a10-8653-459d35c55387"
   },
   "outputs": [
    {
     "name": "stdout",
     "output_type": "stream",
     "text": [
      "179802\n"
     ]
    }
   ],
   "source": [
    "text[:10]\n",
    "print(len(text))"
   ]
  },
  {
   "cell_type": "code",
   "execution_count": null,
   "metadata": {
    "colab": {
     "base_uri": "https://localhost:8080/"
    },
    "executionInfo": {
     "elapsed": 21619,
     "status": "ok",
     "timestamp": 1628498723801,
     "user": {
      "displayName": "Арина Шканова",
      "photoUrl": "",
      "userId": "05102528162079813689"
     },
     "user_tz": -180
    },
    "id": "htfP7jkzuWFg",
    "outputId": "aea8c2f9-9e2d-4016-b313-a8e19908cd4f"
   },
   "outputs": [
    {
     "name": "stdout",
     "output_type": "stream",
     "text": [
      "\u001b[K     |████████████████████████████████| 6.4 MB 3.7 MB/s \n",
      "\u001b[K     |████████████████████████████████| 621 kB 50.9 MB/s \n",
      "\u001b[K     |████████████████████████████████| 42 kB 1.5 MB/s \n",
      "\u001b[K     |████████████████████████████████| 456 kB 35.9 MB/s \n",
      "\u001b[K     |████████████████████████████████| 10.1 MB 37.6 MB/s \n",
      "\u001b[?25h"
     ]
    }
   ],
   "source": [
    "!pip install -U spacy -qq"
   ]
  },
  {
   "cell_type": "code",
   "execution_count": null,
   "metadata": {
    "id": "XKeT1AvQwiOy"
   },
   "outputs": [],
   "source": [
    "import spacy\n",
    "from spacy.lang.ru.examples import sentences"
   ]
  },
  {
   "cell_type": "code",
   "execution_count": null,
   "metadata": {
    "colab": {
     "base_uri": "https://localhost:8080/",
     "height": 35
    },
    "executionInfo": {
     "elapsed": 25,
     "status": "ok",
     "timestamp": 1628498729965,
     "user": {
      "displayName": "Арина Шканова",
      "photoUrl": "",
      "userId": "05102528162079813689"
     },
     "user_tz": -180
    },
    "id": "2i2MgDgOwzl6",
    "outputId": "b1ad3871-5ea7-454d-a740-170a7dad566d"
   },
   "outputs": [
    {
     "data": {
      "application/vnd.google.colaboratory.intrinsic+json": {
       "type": "string"
      },
      "text/plain": [
       "'3.1.1'"
      ]
     },
     "execution_count": 21,
     "metadata": {
      "tags": []
     },
     "output_type": "execute_result"
    }
   ],
   "source": [
    "spacy.__version__"
   ]
  },
  {
   "cell_type": "code",
   "execution_count": null,
   "metadata": {
    "colab": {
     "base_uri": "https://localhost:8080/"
    },
    "executionInfo": {
     "elapsed": 62988,
     "status": "ok",
     "timestamp": 1628498792931,
     "user": {
      "displayName": "Арина Шканова",
      "photoUrl": "",
      "userId": "05102528162079813689"
     },
     "user_tz": -180
    },
    "id": "dtvQvgwew01Y",
    "outputId": "61ae25e1-b1c9-4ff2-9f2b-b0c72e0a5f51"
   },
   "outputs": [
    {
     "name": "stdout",
     "output_type": "stream",
     "text": [
      "2021-08-09 08:45:31.090105: I tensorflow/stream_executor/platform/default/dso_loader.cc:53] Successfully opened dynamic library libcudart.so.11.0\n",
      "\u001b[K     |████████████████████████████████| 514.2 MB 19 kB/s \n",
      "\u001b[K     |████████████████████████████████| 55 kB 1.4 MB/s \n",
      "\u001b[K     |████████████████████████████████| 8.2 MB 5.9 MB/s \n",
      "\u001b[?25h\u001b[38;5;2m✔ Download and installation successful\u001b[0m\n",
      "You can now load the package via spacy.load('ru_core_news_lg')\n"
     ]
    }
   ],
   "source": [
    "!python -m spacy download ru_core_news_lg -qq"
   ]
  },
  {
   "cell_type": "code",
   "execution_count": null,
   "metadata": {
    "id": "babLVU1Pw29A"
   },
   "outputs": [],
   "source": [
    "nlp = spacy.load(\"ru_core_news_lg\")"
   ]
  },
  {
   "cell_type": "code",
   "execution_count": null,
   "metadata": {
    "colab": {
     "base_uri": "https://localhost:8080/",
     "height": 341
    },
    "executionInfo": {
     "elapsed": 200365,
     "status": "error",
     "timestamp": 1628262877414,
     "user": {
      "displayName": "Арина Шканова",
      "photoUrl": "",
      "userId": "05102528162079813689"
     },
     "user_tz": -180
    },
    "id": "G2CYM7Szw6r6",
    "outputId": "89c5f51b-4303-4f0c-b71b-707467daf9f0"
   },
   "outputs": [
    {
     "ename": "KeyboardInterrupt",
     "evalue": "ignored",
     "output_type": "error",
     "traceback": [
      "\u001b[0;31m---------------------------------------------------------------------------\u001b[0m",
      "\u001b[0;31mKeyboardInterrupt\u001b[0m                         Traceback (most recent call last)",
      "\u001b[0;32m<ipython-input-31-61724981edac>\u001b[0m in \u001b[0;36m<module>\u001b[0;34m()\u001b[0m\n\u001b[1;32m      1\u001b[0m \u001b[0mlemmatized_text\u001b[0m \u001b[0;34m=\u001b[0m \u001b[0;34m[\u001b[0m\u001b[0;34m]\u001b[0m\u001b[0;34m\u001b[0m\u001b[0;34m\u001b[0m\u001b[0m\n\u001b[1;32m      2\u001b[0m \u001b[0;32mfor\u001b[0m \u001b[0mdesc\u001b[0m \u001b[0;32min\u001b[0m \u001b[0mtext\u001b[0m\u001b[0;34m:\u001b[0m\u001b[0;34m\u001b[0m\u001b[0;34m\u001b[0m\u001b[0m\n\u001b[0;32m----> 3\u001b[0;31m     \u001b[0mlemmatized_text\u001b[0m\u001b[0;34m.\u001b[0m\u001b[0mappend\u001b[0m\u001b[0;34m(\u001b[0m\u001b[0;34m' '\u001b[0m\u001b[0;34m.\u001b[0m\u001b[0mjoin\u001b[0m\u001b[0;34m(\u001b[0m\u001b[0;34m[\u001b[0m\u001b[0mword\u001b[0m\u001b[0;34m.\u001b[0m\u001b[0mlemma_\u001b[0m \u001b[0;32mfor\u001b[0m \u001b[0mword\u001b[0m \u001b[0;32min\u001b[0m \u001b[0mnlp\u001b[0m\u001b[0;34m(\u001b[0m\u001b[0mdesc\u001b[0m\u001b[0;34m)\u001b[0m\u001b[0;34m]\u001b[0m\u001b[0;34m)\u001b[0m\u001b[0;34m)\u001b[0m\u001b[0;34m\u001b[0m\u001b[0;34m\u001b[0m\u001b[0m\n\u001b[0m",
      "\u001b[0;32m/usr/local/lib/python3.7/dist-packages/spacy/language.py\u001b[0m in \u001b[0;36m__call__\u001b[0;34m(self, text, disable, component_cfg)\u001b[0m\n\u001b[1;32m    998\u001b[0m                 \u001b[0merror_handler\u001b[0m \u001b[0;34m=\u001b[0m \u001b[0mproc\u001b[0m\u001b[0;34m.\u001b[0m\u001b[0mget_error_handler\u001b[0m\u001b[0;34m(\u001b[0m\u001b[0;34m)\u001b[0m\u001b[0;34m\u001b[0m\u001b[0;34m\u001b[0m\u001b[0m\n\u001b[1;32m    999\u001b[0m             \u001b[0;32mtry\u001b[0m\u001b[0;34m:\u001b[0m\u001b[0;34m\u001b[0m\u001b[0;34m\u001b[0m\u001b[0m\n\u001b[0;32m-> 1000\u001b[0;31m                 \u001b[0mdoc\u001b[0m \u001b[0;34m=\u001b[0m \u001b[0mproc\u001b[0m\u001b[0;34m(\u001b[0m\u001b[0mdoc\u001b[0m\u001b[0;34m,\u001b[0m \u001b[0;34m**\u001b[0m\u001b[0mcomponent_cfg\u001b[0m\u001b[0;34m.\u001b[0m\u001b[0mget\u001b[0m\u001b[0;34m(\u001b[0m\u001b[0mname\u001b[0m\u001b[0;34m,\u001b[0m \u001b[0;34m{\u001b[0m\u001b[0;34m}\u001b[0m\u001b[0;34m)\u001b[0m\u001b[0;34m)\u001b[0m\u001b[0;34m\u001b[0m\u001b[0;34m\u001b[0m\u001b[0m\n\u001b[0m\u001b[1;32m   1001\u001b[0m             \u001b[0;32mexcept\u001b[0m \u001b[0mKeyError\u001b[0m \u001b[0;32mas\u001b[0m \u001b[0me\u001b[0m\u001b[0;34m:\u001b[0m\u001b[0;34m\u001b[0m\u001b[0;34m\u001b[0m\u001b[0m\n\u001b[1;32m   1002\u001b[0m                 \u001b[0;31m# This typically happens if a component is not initialized\u001b[0m\u001b[0;34m\u001b[0m\u001b[0;34m\u001b[0m\u001b[0;34m\u001b[0m\u001b[0m\n",
      "\u001b[0;32m/usr/local/lib/python3.7/dist-packages/spacy/pipeline/lemmatizer.py\u001b[0m in \u001b[0;36m__call__\u001b[0;34m(self, doc)\u001b[0m\n\u001b[1;32m    109\u001b[0m             \u001b[0;32mfor\u001b[0m \u001b[0mtoken\u001b[0m \u001b[0;32min\u001b[0m \u001b[0mdoc\u001b[0m\u001b[0;34m:\u001b[0m\u001b[0;34m\u001b[0m\u001b[0;34m\u001b[0m\u001b[0m\n\u001b[1;32m    110\u001b[0m                 \u001b[0;32mif\u001b[0m \u001b[0mself\u001b[0m\u001b[0;34m.\u001b[0m\u001b[0moverwrite\u001b[0m \u001b[0;32mor\u001b[0m \u001b[0mtoken\u001b[0m\u001b[0;34m.\u001b[0m\u001b[0mlemma\u001b[0m \u001b[0;34m==\u001b[0m \u001b[0;36m0\u001b[0m\u001b[0;34m:\u001b[0m\u001b[0;34m\u001b[0m\u001b[0;34m\u001b[0m\u001b[0m\n\u001b[0;32m--> 111\u001b[0;31m                     \u001b[0mtoken\u001b[0m\u001b[0;34m.\u001b[0m\u001b[0mlemma_\u001b[0m \u001b[0;34m=\u001b[0m \u001b[0mself\u001b[0m\u001b[0;34m.\u001b[0m\u001b[0mlemmatize\u001b[0m\u001b[0;34m(\u001b[0m\u001b[0mtoken\u001b[0m\u001b[0;34m)\u001b[0m\u001b[0;34m[\u001b[0m\u001b[0;36m0\u001b[0m\u001b[0;34m]\u001b[0m\u001b[0;34m\u001b[0m\u001b[0;34m\u001b[0m\u001b[0m\n\u001b[0m\u001b[1;32m    112\u001b[0m             \u001b[0;32mreturn\u001b[0m \u001b[0mdoc\u001b[0m\u001b[0;34m\u001b[0m\u001b[0;34m\u001b[0m\u001b[0m\n\u001b[1;32m    113\u001b[0m         \u001b[0;32mexcept\u001b[0m \u001b[0mException\u001b[0m \u001b[0;32mas\u001b[0m \u001b[0me\u001b[0m\u001b[0;34m:\u001b[0m\u001b[0;34m\u001b[0m\u001b[0;34m\u001b[0m\u001b[0m\n",
      "\u001b[0;32m/usr/local/lib/python3.7/dist-packages/spacy/lang/ru/lemmatizer.py\u001b[0m in \u001b[0;36mpymorphy2_lemmatize\u001b[0;34m(self, token)\u001b[0m\n\u001b[1;32m     46\u001b[0m         \u001b[0mfiltered_analyses\u001b[0m \u001b[0;34m=\u001b[0m \u001b[0;34m[\u001b[0m\u001b[0;34m]\u001b[0m\u001b[0;34m\u001b[0m\u001b[0;34m\u001b[0m\u001b[0m\n\u001b[1;32m     47\u001b[0m         \u001b[0;32mfor\u001b[0m \u001b[0manalysis\u001b[0m \u001b[0;32min\u001b[0m \u001b[0manalyses\u001b[0m\u001b[0;34m:\u001b[0m\u001b[0;34m\u001b[0m\u001b[0;34m\u001b[0m\u001b[0m\n\u001b[0;32m---> 48\u001b[0;31m             \u001b[0;32mif\u001b[0m \u001b[0;32mnot\u001b[0m \u001b[0manalysis\u001b[0m\u001b[0;34m.\u001b[0m\u001b[0mis_known\u001b[0m\u001b[0;34m:\u001b[0m\u001b[0;34m\u001b[0m\u001b[0;34m\u001b[0m\u001b[0m\n\u001b[0m\u001b[1;32m     49\u001b[0m                 \u001b[0;31m# Skip suggested parse variant for unknown word for pymorphy\u001b[0m\u001b[0;34m\u001b[0m\u001b[0;34m\u001b[0m\u001b[0;34m\u001b[0m\u001b[0m\n\u001b[1;32m     50\u001b[0m                 \u001b[0;32mcontinue\u001b[0m\u001b[0;34m\u001b[0m\u001b[0;34m\u001b[0m\u001b[0m\n",
      "\u001b[0;32m/usr/local/lib/python3.7/dist-packages/pymorphy2/analyzer.py\u001b[0m in \u001b[0;36mis_known\u001b[0;34m(self)\u001b[0m\n\u001b[1;32m     52\u001b[0m         return self._dict.word_is_known(\n\u001b[1;32m     53\u001b[0m             \u001b[0mword\u001b[0m\u001b[0;34m=\u001b[0m\u001b[0mself\u001b[0m\u001b[0;34m.\u001b[0m\u001b[0mword\u001b[0m\u001b[0;34m,\u001b[0m\u001b[0;34m\u001b[0m\u001b[0;34m\u001b[0m\u001b[0m\n\u001b[0;32m---> 54\u001b[0;31m             \u001b[0msubstitutes_compiled\u001b[0m\u001b[0;34m=\u001b[0m\u001b[0mself\u001b[0m\u001b[0;34m.\u001b[0m\u001b[0m_morph\u001b[0m\u001b[0;34m.\u001b[0m\u001b[0mchar_substitutes\u001b[0m\u001b[0;34m\u001b[0m\u001b[0;34m\u001b[0m\u001b[0m\n\u001b[0m\u001b[1;32m     55\u001b[0m         )\n\u001b[1;32m     56\u001b[0m \u001b[0;34m\u001b[0m\u001b[0m\n",
      "\u001b[0;32m/usr/local/lib/python3.7/dist-packages/pymorphy2/opencorpora_dict/wrapper.py\u001b[0m in \u001b[0;36mword_is_known\u001b[0;34m(self, word, substitutes_compiled)\u001b[0m\n\u001b[1;32m    122\u001b[0m         \"\"\"\n\u001b[1;32m    123\u001b[0m         \u001b[0;32mif\u001b[0m \u001b[0msubstitutes_compiled\u001b[0m\u001b[0;34m:\u001b[0m\u001b[0;34m\u001b[0m\u001b[0;34m\u001b[0m\u001b[0m\n\u001b[0;32m--> 124\u001b[0;31m             \u001b[0;32mreturn\u001b[0m \u001b[0mbool\u001b[0m\u001b[0;34m(\u001b[0m\u001b[0mself\u001b[0m\u001b[0;34m.\u001b[0m\u001b[0mwords\u001b[0m\u001b[0;34m.\u001b[0m\u001b[0msimilar_keys\u001b[0m\u001b[0;34m(\u001b[0m\u001b[0mword\u001b[0m\u001b[0;34m,\u001b[0m \u001b[0msubstitutes_compiled\u001b[0m\u001b[0;34m)\u001b[0m\u001b[0;34m)\u001b[0m\u001b[0;34m\u001b[0m\u001b[0;34m\u001b[0m\u001b[0m\n\u001b[0m\u001b[1;32m    125\u001b[0m         \u001b[0;32melse\u001b[0m\u001b[0;34m:\u001b[0m\u001b[0;34m\u001b[0m\u001b[0;34m\u001b[0m\u001b[0m\n\u001b[1;32m    126\u001b[0m             \u001b[0;32mreturn\u001b[0m \u001b[0mword\u001b[0m \u001b[0;32min\u001b[0m \u001b[0mself\u001b[0m\u001b[0;34m.\u001b[0m\u001b[0mwords\u001b[0m\u001b[0;34m\u001b[0m\u001b[0;34m\u001b[0m\u001b[0m\n",
      "\u001b[0;32m/usr/local/lib/python3.7/dist-packages/dawg_python/dawgs.py\u001b[0m in \u001b[0;36msimilar_keys\u001b[0;34m(self, key, replaces)\u001b[0m\n\u001b[1;32m     75\u001b[0m         \u001b[0mThis\u001b[0m \u001b[0mmay\u001b[0m \u001b[0mbe\u001b[0m \u001b[0museful\u001b[0m \u001b[0me\u001b[0m\u001b[0;34m.\u001b[0m\u001b[0mg\u001b[0m\u001b[0;34m.\u001b[0m \u001b[0;32mfor\u001b[0m \u001b[0mhandling\u001b[0m \u001b[0msingle\u001b[0m\u001b[0;34m-\u001b[0m\u001b[0mcharacter\u001b[0m \u001b[0mumlauts\u001b[0m\u001b[0;34m.\u001b[0m\u001b[0;34m\u001b[0m\u001b[0;34m\u001b[0m\u001b[0m\n\u001b[1;32m     76\u001b[0m         \"\"\"\n\u001b[0;32m---> 77\u001b[0;31m         \u001b[0;32mreturn\u001b[0m \u001b[0mself\u001b[0m\u001b[0;34m.\u001b[0m\u001b[0m_similar_keys\u001b[0m\u001b[0;34m(\u001b[0m\u001b[0;34m\"\"\u001b[0m\u001b[0;34m,\u001b[0m \u001b[0mkey\u001b[0m\u001b[0;34m,\u001b[0m \u001b[0mself\u001b[0m\u001b[0;34m.\u001b[0m\u001b[0mdct\u001b[0m\u001b[0;34m.\u001b[0m\u001b[0mROOT\u001b[0m\u001b[0;34m,\u001b[0m \u001b[0mreplaces\u001b[0m\u001b[0;34m)\u001b[0m\u001b[0;34m\u001b[0m\u001b[0;34m\u001b[0m\u001b[0m\n\u001b[0m\u001b[1;32m     78\u001b[0m \u001b[0;34m\u001b[0m\u001b[0m\n\u001b[1;32m     79\u001b[0m     \u001b[0;34m@\u001b[0m\u001b[0mclassmethod\u001b[0m\u001b[0;34m\u001b[0m\u001b[0;34m\u001b[0m\u001b[0m\n",
      "\u001b[0;32m/usr/local/lib/python3.7/dist-packages/dawg_python/dawgs.py\u001b[0m in \u001b[0;36m_similar_keys\u001b[0;34m(self, current_prefix, key, index, replace_chars)\u001b[0m\n\u001b[1;32m     51\u001b[0m                     \u001b[0mres\u001b[0m \u001b[0;34m+=\u001b[0m \u001b[0mextra_keys\u001b[0m\u001b[0;34m\u001b[0m\u001b[0;34m\u001b[0m\u001b[0m\n\u001b[1;32m     52\u001b[0m \u001b[0;34m\u001b[0m\u001b[0m\n\u001b[0;32m---> 53\u001b[0;31m             \u001b[0mindex\u001b[0m \u001b[0;34m=\u001b[0m \u001b[0mself\u001b[0m\u001b[0;34m.\u001b[0m\u001b[0mdct\u001b[0m\u001b[0;34m.\u001b[0m\u001b[0mfollow_bytes\u001b[0m\u001b[0;34m(\u001b[0m\u001b[0mb_step\u001b[0m\u001b[0;34m,\u001b[0m \u001b[0mindex\u001b[0m\u001b[0;34m)\u001b[0m\u001b[0;34m\u001b[0m\u001b[0;34m\u001b[0m\u001b[0m\n\u001b[0m\u001b[1;32m     54\u001b[0m             \u001b[0;32mif\u001b[0m \u001b[0mindex\u001b[0m \u001b[0;32mis\u001b[0m \u001b[0;32mNone\u001b[0m\u001b[0;34m:\u001b[0m\u001b[0;34m\u001b[0m\u001b[0;34m\u001b[0m\u001b[0m\n\u001b[1;32m     55\u001b[0m                 \u001b[0;32mbreak\u001b[0m\u001b[0;34m\u001b[0m\u001b[0;34m\u001b[0m\u001b[0m\n",
      "\u001b[0;32m/usr/local/lib/python3.7/dist-packages/dawg_python/wrapper.py\u001b[0m in \u001b[0;36mfollow_bytes\u001b[0;34m(self, s, index)\u001b[0m\n\u001b[1;32m     62\u001b[0m         \u001b[0;34m\"Follows transitions.\"\u001b[0m\u001b[0;34m\u001b[0m\u001b[0;34m\u001b[0m\u001b[0m\n\u001b[1;32m     63\u001b[0m         \u001b[0;32mfor\u001b[0m \u001b[0mch\u001b[0m \u001b[0;32min\u001b[0m \u001b[0ms\u001b[0m\u001b[0;34m:\u001b[0m\u001b[0;34m\u001b[0m\u001b[0;34m\u001b[0m\u001b[0m\n\u001b[0;32m---> 64\u001b[0;31m             \u001b[0mindex\u001b[0m \u001b[0;34m=\u001b[0m \u001b[0mself\u001b[0m\u001b[0;34m.\u001b[0m\u001b[0mfollow_char\u001b[0m\u001b[0;34m(\u001b[0m\u001b[0mint_from_byte\u001b[0m\u001b[0;34m(\u001b[0m\u001b[0mch\u001b[0m\u001b[0;34m)\u001b[0m\u001b[0;34m,\u001b[0m \u001b[0mindex\u001b[0m\u001b[0;34m)\u001b[0m\u001b[0;34m\u001b[0m\u001b[0;34m\u001b[0m\u001b[0m\n\u001b[0m\u001b[1;32m     65\u001b[0m             \u001b[0;32mif\u001b[0m \u001b[0mindex\u001b[0m \u001b[0;32mis\u001b[0m \u001b[0;32mNone\u001b[0m\u001b[0;34m:\u001b[0m\u001b[0;34m\u001b[0m\u001b[0;34m\u001b[0m\u001b[0m\n\u001b[1;32m     66\u001b[0m                 \u001b[0;32mreturn\u001b[0m \u001b[0;32mNone\u001b[0m\u001b[0;34m\u001b[0m\u001b[0;34m\u001b[0m\u001b[0m\n",
      "\u001b[0;32m/usr/local/lib/python3.7/dist-packages/dawg_python/wrapper.py\u001b[0m in \u001b[0;36mfollow_char\u001b[0;34m(self, label, index)\u001b[0m\n\u001b[1;32m     54\u001b[0m         \u001b[0mnext_index\u001b[0m \u001b[0;34m=\u001b[0m \u001b[0;34m(\u001b[0m\u001b[0mindex\u001b[0m \u001b[0;34m^\u001b[0m \u001b[0moffset\u001b[0m \u001b[0;34m^\u001b[0m \u001b[0mlabel\u001b[0m\u001b[0;34m)\u001b[0m \u001b[0;34m&\u001b[0m \u001b[0munits\u001b[0m\u001b[0;34m.\u001b[0m\u001b[0mPRECISION_MASK\u001b[0m\u001b[0;34m\u001b[0m\u001b[0;34m\u001b[0m\u001b[0m\n\u001b[1;32m     55\u001b[0m \u001b[0;34m\u001b[0m\u001b[0m\n\u001b[0;32m---> 56\u001b[0;31m         \u001b[0;32mif\u001b[0m \u001b[0munits\u001b[0m\u001b[0;34m.\u001b[0m\u001b[0mlabel\u001b[0m\u001b[0;34m(\u001b[0m\u001b[0mself\u001b[0m\u001b[0;34m.\u001b[0m\u001b[0m_units\u001b[0m\u001b[0;34m[\u001b[0m\u001b[0mnext_index\u001b[0m\u001b[0;34m]\u001b[0m\u001b[0;34m)\u001b[0m \u001b[0;34m!=\u001b[0m \u001b[0mlabel\u001b[0m\u001b[0;34m:\u001b[0m\u001b[0;34m\u001b[0m\u001b[0;34m\u001b[0m\u001b[0m\n\u001b[0m\u001b[1;32m     57\u001b[0m             \u001b[0;32mreturn\u001b[0m \u001b[0;32mNone\u001b[0m\u001b[0;34m\u001b[0m\u001b[0;34m\u001b[0m\u001b[0m\n\u001b[1;32m     58\u001b[0m \u001b[0;34m\u001b[0m\u001b[0m\n",
      "\u001b[0;31mKeyboardInterrupt\u001b[0m: "
     ]
    }
   ],
   "source": [
    "lemmatized_text = []\n",
    "for desc in text:\n",
    "    lemmatized_text.append(' '.join([word.lemma_ for word in nlp(desc)]))"
   ]
  },
  {
   "cell_type": "code",
   "execution_count": null,
   "metadata": {
    "id": "yIMesUfkyA7c"
   },
   "outputs": [],
   "source": [
    "lemmatized_text[:10]"
   ]
  },
  {
   "cell_type": "code",
   "execution_count": null,
   "metadata": {
    "id": "LBmbeEPkyYOY"
   },
   "outputs": [],
   "source": [
    "from nltk.corpus import stopwords\n",
    "from nltk.tokenize import RegexpTokenizer\n",
    "from string import punctuation\n",
    "import unicodedata\n",
    "import collections"
   ]
  },
  {
   "cell_type": "code",
   "execution_count": null,
   "metadata": {
    "colab": {
     "base_uri": "https://localhost:8080/"
    },
    "executionInfo": {
     "elapsed": 1857,
     "status": "ok",
     "timestamp": 1628498812035,
     "user": {
      "displayName": "Арина Шканова",
      "photoUrl": "",
      "userId": "05102528162079813689"
     },
     "user_tz": -180
    },
    "id": "EC2lqtdElKM_",
    "outputId": "45b87caf-fd26-41f4-db92-47dd9deb165a"
   },
   "outputs": [
    {
     "name": "stdout",
     "output_type": "stream",
     "text": [
      "[nltk_data] Downloading package stopwords to /root/nltk_data...\n",
      "[nltk_data]   Unzipping corpora/stopwords.zip.\n",
      "[nltk_data] Downloading package punkt to /root/nltk_data...\n",
      "[nltk_data]   Unzipping tokenizers/punkt.zip.\n",
      "[nltk_data] Downloading package wordnet to /root/nltk_data...\n",
      "[nltk_data]   Unzipping corpora/wordnet.zip.\n"
     ]
    },
    {
     "data": {
      "text/plain": [
       "True"
      ]
     },
     "execution_count": 25,
     "metadata": {
      "tags": []
     },
     "output_type": "execute_result"
    }
   ],
   "source": [
    "nltk.download('stopwords')\n",
    "stopword_list_r=nltk.corpus.stopwords.words('russian')\n",
    "stopword_list_e=nltk.corpus.stopwords.words('english')\n",
    "nltk.download('punkt')\n",
    "nltk.download('wordnet')"
   ]
  },
  {
   "cell_type": "code",
   "execution_count": null,
   "metadata": {
    "id": "a9HMrGuOTyXt"
   },
   "outputs": [],
   "source": [
    "swr = stopwords.words(\"russian\")\n",
    "swe = stopwords.words('english')\n",
    "# reg_tokenizer = RegexpTokenizer(pattern=r\"\\s+\")\n",
    "reg_tokenizer = RegexpTokenizer(pattern=r\"\\w+\")"
   ]
  },
  {
   "cell_type": "code",
   "execution_count": null,
   "metadata": {
    "colab": {
     "base_uri": "https://localhost:8080/"
    },
    "executionInfo": {
     "elapsed": 5525,
     "status": "ok",
     "timestamp": 1628498817556,
     "user": {
      "displayName": "Арина Шканова",
      "photoUrl": "",
      "userId": "05102528162079813689"
     },
     "user_tz": -180
    },
    "id": "ldkBmDMld4Sj",
    "outputId": "37099164-e27b-4425-9f7c-c272efad4925"
   },
   "outputs": [
    {
     "name": "stdout",
     "output_type": "stream",
     "text": [
      "0 2000 4000 6000 8000 10000 12000 14000 16000 18000 20000 22000 24000 26000 28000 30000 32000 34000 36000 38000 40000 42000 44000 46000 48000 50000 52000 54000 56000 58000 60000 62000 64000 66000 68000 70000 72000 74000 76000 78000 80000 82000 84000 86000 88000 90000 92000 94000 96000 98000 100000 102000 104000 106000 108000 110000 112000 114000 116000 118000 120000 122000 124000 126000 128000 130000 132000 134000 136000 138000 140000 142000 144000 146000 148000 150000 152000 154000 156000 158000 160000 162000 164000 166000 168000 170000 172000 174000 176000 178000 179802\n"
     ]
    },
    {
     "data": {
      "text/plain": [
       "['открытка почтовая',\n",
       " 'портрет павла давыдовича эттингера гравюра',\n",
       " 'открытка почтовая железноводск гора железная',\n",
       " 'домик галерной гавани гравюра',\n",
       " 'фотография членов артели имени подтелкова кривошлыкова год']"
      ]
     },
     "execution_count": 27,
     "metadata": {
      "tags": []
     },
     "output_type": "execute_result"
    }
   ],
   "source": [
    "NoStopwords = [] \n",
    "for i, element in enumerate(text):\n",
    "    if i % 2000 == 0: print(i, end = ' ')\n",
    "    NoStopwords.append(' '.join([word for word in element.split() if word not in swr and word not in swe]))\n",
    "print(len(NoStopwords))\n",
    "NoStopwords[:5]"
   ]
  },
  {
   "cell_type": "code",
   "execution_count": null,
   "metadata": {
    "id": "bDkvDCQoeFtX"
   },
   "outputs": [],
   "source": [
    "clean_description_big_1 = pd.concat([pd.Series(NoStopwords, name = 'description'), pd.Series(url_data['typology_encoded'].to_list(), name = 'enpology')], axis=1)\n",
    "# clean_description_big.to_csv('clean_description_big.csv', index=False)"
   ]
  },
  {
   "cell_type": "code",
   "execution_count": null,
   "metadata": {
    "id": "p-2-hCrfUIFz"
   },
   "outputs": [],
   "source": [
    "# tokenized_text = reg_tokenizer.tokenize_sents(lemmatized_text)\n",
    "# tokenized_text[:5]"
   ]
  },
  {
   "cell_type": "code",
   "execution_count": null,
   "metadata": {
    "id": "KmQc1Q8XUKbe"
   },
   "outputs": [],
   "source": [
    "# NoStopwords = [] \n",
    "# for i, element in enumerate(tokenized_text):\n",
    "#     if i % 2000 == 0: print(i, end = ' ')\n",
    "#     NoStopwords.append(' '.join([word for word in element if word not in swr and word not in swe]))\n",
    "# NoStopwords[:5]"
   ]
  },
  {
   "cell_type": "code",
   "execution_count": null,
   "metadata": {
    "id": "pXD-D18lVuIF"
   },
   "outputs": [],
   "source": [
    "# clean_description_token = pd.concat([pd.Series(NoStopwords, name = 'description'), pd.Series(train_500_data['enpology'], name = 'enpology')], axis=1)"
   ]
  },
  {
   "cell_type": "code",
   "execution_count": null,
   "metadata": {
    "id": "xYpZU-b0e2Ce"
   },
   "outputs": [],
   "source": [
    "# clean_description_token.to_csv('clean_description_token', index=False)"
   ]
  },
  {
   "cell_type": "code",
   "execution_count": null,
   "metadata": {
    "colab": {
     "base_uri": "https://localhost:8080/"
    },
    "executionInfo": {
     "elapsed": 403,
     "status": "ok",
     "timestamp": 1628498837977,
     "user": {
      "displayName": "Арина Шканова",
      "photoUrl": "",
      "userId": "05102528162079813689"
     },
     "user_tz": -180
    },
    "id": "sF3FxfsCXvPF",
    "outputId": "af98a19c-ef4a-43bd-b665-085e5c5a2a82"
   },
   "outputs": [
    {
     "name": "stdout",
     "output_type": "stream",
     "text": [
      "                                         description  enpology\n",
      "0                                  открытка почтовая        11\n",
      "1         портрет павла давыдовича эттингера гравюра         0\n",
      "2       открытка почтовая железноводск гора железная        11\n",
      "3                      домик галерной гавани гравюра         0\n",
      "4  фотография членов артели имени подтелкова крив...        11\n",
      "5                                       книга святцы        12\n",
      "6                            казанский собор гравюра         0\n",
      "7                                 приложение диплому         1\n",
      "8  открытка почтовая железноводск пушкинская галл...        11\n",
      "9                               монета номинал рубль         7\n"
     ]
    }
   ],
   "source": [
    "print(clean_description_big_1.head(10))"
   ]
  },
  {
   "cell_type": "code",
   "execution_count": null,
   "metadata": {
    "colab": {
     "base_uri": "https://localhost:8080/",
     "height": 221
    },
    "executionInfo": {
     "elapsed": 1995,
     "status": "ok",
     "timestamp": 1628498842170,
     "user": {
      "displayName": "Арина Шканова",
      "photoUrl": "",
      "userId": "05102528162079813689"
     },
     "user_tz": -180
    },
    "id": "IkvRnx-kwt5N",
    "outputId": "a871bd16-732b-4ea1-9ea2-933c9f1f3260"
   },
   "outputs": [
    {
     "name": "stdout",
     "output_type": "stream",
     "text": [
      "(179802, 2)\n"
     ]
    },
    {
     "data": {
      "text/html": [
       "<div>\n",
       "<style scoped>\n",
       "    .dataframe tbody tr th:only-of-type {\n",
       "        vertical-align: middle;\n",
       "    }\n",
       "\n",
       "    .dataframe tbody tr th {\n",
       "        vertical-align: top;\n",
       "    }\n",
       "\n",
       "    .dataframe thead th {\n",
       "        text-align: right;\n",
       "    }\n",
       "</style>\n",
       "<table border=\"1\" class=\"dataframe\">\n",
       "  <thead>\n",
       "    <tr style=\"text-align: right;\">\n",
       "      <th></th>\n",
       "      <th>description</th>\n",
       "      <th>enpology</th>\n",
       "    </tr>\n",
       "  </thead>\n",
       "  <tbody>\n",
       "    <tr>\n",
       "      <th>179797</th>\n",
       "      <td>фото матов групповое фигурными краями подл ган...</td>\n",
       "      <td>14</td>\n",
       "    </tr>\n",
       "    <tr>\n",
       "      <th>179798</th>\n",
       "      <td>открытое письмо петродворец вид аллею фонтанов</td>\n",
       "      <td>8</td>\n",
       "    </tr>\n",
       "    <tr>\n",
       "      <th>179799</th>\n",
       "      <td>фото черно белое художник алексей кольцов фото...</td>\n",
       "      <td>14</td>\n",
       "    </tr>\n",
       "    <tr>\n",
       "      <th>179800</th>\n",
       "      <td>грампластинка</td>\n",
       "      <td>11</td>\n",
       "    </tr>\n",
       "    <tr>\n",
       "      <th>179801</th>\n",
       "      <td>этикетка спичечная коллекционная амурский тигр</td>\n",
       "      <td>11</td>\n",
       "    </tr>\n",
       "  </tbody>\n",
       "</table>\n",
       "</div>"
      ],
      "text/plain": [
       "                                              description  enpology\n",
       "179797  фото матов групповое фигурными краями подл ган...        14\n",
       "179798     открытое письмо петродворец вид аллею фонтанов         8\n",
       "179799  фото черно белое художник алексей кольцов фото...        14\n",
       "179800                                      грампластинка        11\n",
       "179801     этикетка спичечная коллекционная амурский тигр        11"
      ]
     },
     "execution_count": 32,
     "metadata": {
      "tags": []
     },
     "output_type": "execute_result"
    }
   ],
   "source": [
    "clean_description_big=pd.read_csv('clean_description_big.csv')\n",
    "print(clean_description_big.shape)\n",
    "clean_description_big.tail()"
   ]
  },
  {
   "cell_type": "code",
   "execution_count": null,
   "metadata": {
    "colab": {
     "base_uri": "https://localhost:8080/"
    },
    "executionInfo": {
     "elapsed": 4374,
     "status": "ok",
     "timestamp": 1628498856439,
     "user": {
      "displayName": "Арина Шканова",
      "photoUrl": "",
      "userId": "05102528162079813689"
     },
     "user_tz": -180
    },
    "id": "laNtubNaXsL4",
    "outputId": "d62f556e-7be0-48c1-eb57-a35c0d5813a0"
   },
   "outputs": [
    {
     "name": "stdout",
     "output_type": "stream",
     "text": [
      "Collecting sentencepiece\n",
      "  Downloading sentencepiece-0.1.96-cp37-cp37m-manylinux_2_17_x86_64.manylinux2014_x86_64.whl (1.2 MB)\n",
      "\u001b[K     |████████████████████████████████| 1.2 MB 3.8 MB/s \n",
      "\u001b[?25hInstalling collected packages: sentencepiece\n",
      "Successfully installed sentencepiece-0.1.96\n"
     ]
    }
   ],
   "source": [
    "!pip install sentencepiece"
   ]
  },
  {
   "cell_type": "code",
   "execution_count": null,
   "metadata": {
    "colab": {
     "base_uri": "https://localhost:8080/"
    },
    "executionInfo": {
     "elapsed": 7517,
     "status": "ok",
     "timestamp": 1628498863945,
     "user": {
      "displayName": "Арина Шканова",
      "photoUrl": "",
      "userId": "05102528162079813689"
     },
     "user_tz": -180
    },
    "id": "bxcZmkWDYVEQ",
    "outputId": "771c5e93-c395-4969-aea6-a96d971bc723"
   },
   "outputs": [
    {
     "name": "stdout",
     "output_type": "stream",
     "text": [
      "\u001b[K     |████████████████████████████████| 2.6 MB 4.0 MB/s \n",
      "\u001b[K     |████████████████████████████████| 636 kB 39.4 MB/s \n",
      "\u001b[K     |████████████████████████████████| 3.3 MB 18.3 MB/s \n",
      "\u001b[K     |████████████████████████████████| 895 kB 50.9 MB/s \n",
      "\u001b[?25h"
     ]
    }
   ],
   "source": [
    "!pip install transformers -qq"
   ]
  },
  {
   "cell_type": "code",
   "execution_count": null,
   "metadata": {
    "colab": {
     "base_uri": "https://localhost:8080/"
    },
    "executionInfo": {
     "elapsed": 8963,
     "status": "ok",
     "timestamp": 1628498911160,
     "user": {
      "displayName": "Арина Шканова",
      "photoUrl": "",
      "userId": "05102528162079813689"
     },
     "user_tz": -180
    },
    "id": "lZa7KwbEYXqZ",
    "outputId": "55c5e8cf-37c2-4a36-d9dd-82e2b4d22a62"
   },
   "outputs": [
    {
     "name": "stderr",
     "output_type": "stream",
     "text": [
      "Some weights of the model checkpoint at cointegrated/rubert-tiny were not used when initializing BertModel: ['cls.predictions.transform.dense.weight', 'cls.seq_relationship.weight', 'cls.predictions.decoder.weight', 'cls.predictions.transform.dense.bias', 'cls.predictions.transform.LayerNorm.weight', 'cls.predictions.decoder.bias', 'cls.seq_relationship.bias', 'cls.predictions.bias', 'cls.predictions.transform.LayerNorm.bias']\n",
      "- This IS expected if you are initializing BertModel from the checkpoint of a model trained on another task or with another architecture (e.g. initializing a BertForSequenceClassification model from a BertForPreTraining model).\n",
      "- This IS NOT expected if you are initializing BertModel from the checkpoint of a model that you expect to be exactly identical (initializing a BertForSequenceClassification model from a BertForSequenceClassification model).\n"
     ]
    },
    {
     "name": "stdout",
     "output_type": "stream",
     "text": [
      "(312,)\n"
     ]
    }
   ],
   "source": [
    "import torch\n",
    "from transformers import AutoTokenizer, AutoModel\n",
    "tokenizer = AutoTokenizer.from_pretrained(\"cointegrated/rubert-tiny\")\n",
    "model = AutoModel.from_pretrained(\"cointegrated/rubert-tiny\")\n",
    "# model.cuda()  # uncomment it if you have a GPU\n",
    "\n",
    "def embed_bert_cls(text, model, tokenizer):\n",
    "    t = tokenizer(text, padding=True, truncation=True, return_tensors='pt')\n",
    "    with torch.no_grad():\n",
    "        model_output = model(**{k: v.to(model.device) for k, v in t.items()})\n",
    "    embeddings = model_output.last_hidden_state[:, 0, :]\n",
    "    embeddings = torch.nn.functional.normalize(embeddings)\n",
    "    return embeddings[0].cpu().numpy()\n",
    "\n",
    "print(embed_bert_cls('привет мир', model, tokenizer).shape) #312 мерный "
   ]
  },
  {
   "cell_type": "code",
   "execution_count": null,
   "metadata": {
    "id": "gi_xkfcua-e1"
   },
   "outputs": [],
   "source": [
    "features = clean_description_big_1['description'].apply((lambda x: embed_bert_cls(x, model, tokenizer)))"
   ]
  },
  {
   "cell_type": "code",
   "execution_count": null,
   "metadata": {
    "colab": {
     "base_uri": "https://localhost:8080/"
    },
    "executionInfo": {
     "elapsed": 609,
     "status": "ok",
     "timestamp": 1628499877917,
     "user": {
      "displayName": "Арина Шканова",
      "photoUrl": "",
      "userId": "05102528162079813689"
     },
     "user_tz": -180
    },
    "id": "wcKFaar1xcMS",
    "outputId": "bd70c5d3-ff04-4379-b656-f07b494bd3d8"
   },
   "outputs": [
    {
     "data": {
      "text/plain": [
       "312"
      ]
     },
     "execution_count": 38,
     "metadata": {
      "tags": []
     },
     "output_type": "execute_result"
    }
   ],
   "source": [
    "len(features[0])"
   ]
  },
  {
   "cell_type": "code",
   "execution_count": null,
   "metadata": {
    "colab": {
     "base_uri": "https://localhost:8080/",
     "height": 253
    },
    "executionInfo": {
     "elapsed": 39991,
     "status": "ok",
     "timestamp": 1628499923603,
     "user": {
      "displayName": "Арина Шканова",
      "photoUrl": "",
      "userId": "05102528162079813689"
     },
     "user_tz": -180
    },
    "id": "1XiZnNtQgDXF",
    "outputId": "ed394534-da38-4965-9008-bb6a2e3a8070"
   },
   "outputs": [
    {
     "data": {
      "text/html": [
       "<div>\n",
       "<style scoped>\n",
       "    .dataframe tbody tr th:only-of-type {\n",
       "        vertical-align: middle;\n",
       "    }\n",
       "\n",
       "    .dataframe tbody tr th {\n",
       "        vertical-align: top;\n",
       "    }\n",
       "\n",
       "    .dataframe thead th {\n",
       "        text-align: right;\n",
       "    }\n",
       "</style>\n",
       "<table border=\"1\" class=\"dataframe\">\n",
       "  <thead>\n",
       "    <tr style=\"text-align: right;\">\n",
       "      <th></th>\n",
       "      <th>0</th>\n",
       "      <th>1</th>\n",
       "      <th>2</th>\n",
       "      <th>3</th>\n",
       "      <th>4</th>\n",
       "      <th>5</th>\n",
       "      <th>6</th>\n",
       "      <th>7</th>\n",
       "      <th>8</th>\n",
       "      <th>9</th>\n",
       "      <th>10</th>\n",
       "      <th>11</th>\n",
       "      <th>12</th>\n",
       "      <th>13</th>\n",
       "      <th>14</th>\n",
       "      <th>15</th>\n",
       "      <th>16</th>\n",
       "      <th>17</th>\n",
       "      <th>18</th>\n",
       "      <th>19</th>\n",
       "      <th>20</th>\n",
       "      <th>21</th>\n",
       "      <th>22</th>\n",
       "      <th>23</th>\n",
       "      <th>24</th>\n",
       "      <th>25</th>\n",
       "      <th>26</th>\n",
       "      <th>27</th>\n",
       "      <th>28</th>\n",
       "      <th>29</th>\n",
       "      <th>30</th>\n",
       "      <th>31</th>\n",
       "      <th>32</th>\n",
       "      <th>33</th>\n",
       "      <th>34</th>\n",
       "      <th>35</th>\n",
       "      <th>36</th>\n",
       "      <th>37</th>\n",
       "      <th>38</th>\n",
       "      <th>39</th>\n",
       "      <th>...</th>\n",
       "      <th>272</th>\n",
       "      <th>273</th>\n",
       "      <th>274</th>\n",
       "      <th>275</th>\n",
       "      <th>276</th>\n",
       "      <th>277</th>\n",
       "      <th>278</th>\n",
       "      <th>279</th>\n",
       "      <th>280</th>\n",
       "      <th>281</th>\n",
       "      <th>282</th>\n",
       "      <th>283</th>\n",
       "      <th>284</th>\n",
       "      <th>285</th>\n",
       "      <th>286</th>\n",
       "      <th>287</th>\n",
       "      <th>288</th>\n",
       "      <th>289</th>\n",
       "      <th>290</th>\n",
       "      <th>291</th>\n",
       "      <th>292</th>\n",
       "      <th>293</th>\n",
       "      <th>294</th>\n",
       "      <th>295</th>\n",
       "      <th>296</th>\n",
       "      <th>297</th>\n",
       "      <th>298</th>\n",
       "      <th>299</th>\n",
       "      <th>300</th>\n",
       "      <th>301</th>\n",
       "      <th>302</th>\n",
       "      <th>303</th>\n",
       "      <th>304</th>\n",
       "      <th>305</th>\n",
       "      <th>306</th>\n",
       "      <th>307</th>\n",
       "      <th>308</th>\n",
       "      <th>309</th>\n",
       "      <th>310</th>\n",
       "      <th>311</th>\n",
       "    </tr>\n",
       "  </thead>\n",
       "  <tbody>\n",
       "    <tr>\n",
       "      <th>0</th>\n",
       "      <td>-0.021714</td>\n",
       "      <td>-0.042040</td>\n",
       "      <td>0.058279</td>\n",
       "      <td>-0.007260</td>\n",
       "      <td>-0.022157</td>\n",
       "      <td>0.038823</td>\n",
       "      <td>0.075788</td>\n",
       "      <td>0.003425</td>\n",
       "      <td>0.007822</td>\n",
       "      <td>-0.045026</td>\n",
       "      <td>0.097639</td>\n",
       "      <td>-0.022283</td>\n",
       "      <td>-0.000058</td>\n",
       "      <td>0.056528</td>\n",
       "      <td>0.020711</td>\n",
       "      <td>0.005967</td>\n",
       "      <td>-0.012928</td>\n",
       "      <td>0.033693</td>\n",
       "      <td>0.014006</td>\n",
       "      <td>0.072415</td>\n",
       "      <td>-0.035411</td>\n",
       "      <td>-0.001385</td>\n",
       "      <td>0.035000</td>\n",
       "      <td>-0.041480</td>\n",
       "      <td>0.113270</td>\n",
       "      <td>0.029279</td>\n",
       "      <td>-0.000751</td>\n",
       "      <td>0.018261</td>\n",
       "      <td>-0.026207</td>\n",
       "      <td>0.080020</td>\n",
       "      <td>-0.039796</td>\n",
       "      <td>-0.083942</td>\n",
       "      <td>0.070224</td>\n",
       "      <td>0.031431</td>\n",
       "      <td>-0.039355</td>\n",
       "      <td>0.087231</td>\n",
       "      <td>0.009140</td>\n",
       "      <td>0.004344</td>\n",
       "      <td>-0.095304</td>\n",
       "      <td>0.040902</td>\n",
       "      <td>...</td>\n",
       "      <td>-0.003273</td>\n",
       "      <td>0.037928</td>\n",
       "      <td>0.038069</td>\n",
       "      <td>0.040785</td>\n",
       "      <td>-0.002436</td>\n",
       "      <td>0.012110</td>\n",
       "      <td>0.003205</td>\n",
       "      <td>-0.051811</td>\n",
       "      <td>0.071631</td>\n",
       "      <td>0.030810</td>\n",
       "      <td>-0.104069</td>\n",
       "      <td>0.070484</td>\n",
       "      <td>0.017481</td>\n",
       "      <td>-0.023256</td>\n",
       "      <td>-0.069520</td>\n",
       "      <td>-0.038369</td>\n",
       "      <td>0.019155</td>\n",
       "      <td>-0.028036</td>\n",
       "      <td>0.014075</td>\n",
       "      <td>-0.008126</td>\n",
       "      <td>-0.016815</td>\n",
       "      <td>0.019641</td>\n",
       "      <td>-0.065312</td>\n",
       "      <td>0.051364</td>\n",
       "      <td>-0.131673</td>\n",
       "      <td>0.020942</td>\n",
       "      <td>-0.027850</td>\n",
       "      <td>-0.060535</td>\n",
       "      <td>0.040308</td>\n",
       "      <td>-0.056175</td>\n",
       "      <td>-0.005532</td>\n",
       "      <td>0.087189</td>\n",
       "      <td>-0.016329</td>\n",
       "      <td>-0.001204</td>\n",
       "      <td>0.049405</td>\n",
       "      <td>-0.016313</td>\n",
       "      <td>-0.030909</td>\n",
       "      <td>0.090894</td>\n",
       "      <td>0.085891</td>\n",
       "      <td>-0.072096</td>\n",
       "    </tr>\n",
       "    <tr>\n",
       "      <th>1</th>\n",
       "      <td>-0.004629</td>\n",
       "      <td>-0.042766</td>\n",
       "      <td>0.067375</td>\n",
       "      <td>-0.096717</td>\n",
       "      <td>0.015186</td>\n",
       "      <td>0.031365</td>\n",
       "      <td>-0.000049</td>\n",
       "      <td>0.057014</td>\n",
       "      <td>-0.071349</td>\n",
       "      <td>-0.007636</td>\n",
       "      <td>0.060555</td>\n",
       "      <td>0.023652</td>\n",
       "      <td>0.018690</td>\n",
       "      <td>0.101489</td>\n",
       "      <td>0.016760</td>\n",
       "      <td>0.017042</td>\n",
       "      <td>0.087517</td>\n",
       "      <td>-0.001846</td>\n",
       "      <td>0.029794</td>\n",
       "      <td>0.030333</td>\n",
       "      <td>-0.081542</td>\n",
       "      <td>0.018864</td>\n",
       "      <td>-0.023720</td>\n",
       "      <td>-0.025173</td>\n",
       "      <td>0.052445</td>\n",
       "      <td>0.032674</td>\n",
       "      <td>-0.007992</td>\n",
       "      <td>0.030628</td>\n",
       "      <td>0.017732</td>\n",
       "      <td>0.069653</td>\n",
       "      <td>-0.025783</td>\n",
       "      <td>0.022933</td>\n",
       "      <td>0.020840</td>\n",
       "      <td>0.013799</td>\n",
       "      <td>-0.037835</td>\n",
       "      <td>0.026814</td>\n",
       "      <td>0.009025</td>\n",
       "      <td>-0.056899</td>\n",
       "      <td>-0.117882</td>\n",
       "      <td>0.000839</td>\n",
       "      <td>...</td>\n",
       "      <td>-0.029580</td>\n",
       "      <td>0.045931</td>\n",
       "      <td>0.011230</td>\n",
       "      <td>-0.050689</td>\n",
       "      <td>0.034871</td>\n",
       "      <td>0.051835</td>\n",
       "      <td>0.018020</td>\n",
       "      <td>-0.009878</td>\n",
       "      <td>0.163682</td>\n",
       "      <td>0.039266</td>\n",
       "      <td>-0.034396</td>\n",
       "      <td>-0.000188</td>\n",
       "      <td>0.008033</td>\n",
       "      <td>0.005968</td>\n",
       "      <td>0.008929</td>\n",
       "      <td>0.003683</td>\n",
       "      <td>-0.029168</td>\n",
       "      <td>0.022518</td>\n",
       "      <td>0.075145</td>\n",
       "      <td>-0.009141</td>\n",
       "      <td>0.011022</td>\n",
       "      <td>-0.026685</td>\n",
       "      <td>-0.068805</td>\n",
       "      <td>-0.001855</td>\n",
       "      <td>-0.018709</td>\n",
       "      <td>0.072498</td>\n",
       "      <td>-0.042119</td>\n",
       "      <td>-0.067993</td>\n",
       "      <td>-0.021241</td>\n",
       "      <td>-0.003962</td>\n",
       "      <td>0.016582</td>\n",
       "      <td>0.124419</td>\n",
       "      <td>0.027207</td>\n",
       "      <td>0.015517</td>\n",
       "      <td>-0.009407</td>\n",
       "      <td>-0.000959</td>\n",
       "      <td>-0.051667</td>\n",
       "      <td>0.052932</td>\n",
       "      <td>0.007319</td>\n",
       "      <td>-0.114169</td>\n",
       "    </tr>\n",
       "    <tr>\n",
       "      <th>2</th>\n",
       "      <td>-0.019716</td>\n",
       "      <td>-0.038397</td>\n",
       "      <td>0.041032</td>\n",
       "      <td>-0.098718</td>\n",
       "      <td>0.025730</td>\n",
       "      <td>0.060552</td>\n",
       "      <td>0.024531</td>\n",
       "      <td>-0.004538</td>\n",
       "      <td>-0.030425</td>\n",
       "      <td>-0.072059</td>\n",
       "      <td>0.119869</td>\n",
       "      <td>-0.014058</td>\n",
       "      <td>0.005465</td>\n",
       "      <td>0.037740</td>\n",
       "      <td>0.034146</td>\n",
       "      <td>0.030692</td>\n",
       "      <td>0.004778</td>\n",
       "      <td>0.050407</td>\n",
       "      <td>0.004992</td>\n",
       "      <td>0.046895</td>\n",
       "      <td>-0.023857</td>\n",
       "      <td>-0.012468</td>\n",
       "      <td>0.018083</td>\n",
       "      <td>-0.071955</td>\n",
       "      <td>0.134229</td>\n",
       "      <td>0.025433</td>\n",
       "      <td>0.028505</td>\n",
       "      <td>0.039533</td>\n",
       "      <td>0.038130</td>\n",
       "      <td>0.092615</td>\n",
       "      <td>-0.029866</td>\n",
       "      <td>-0.022946</td>\n",
       "      <td>0.041717</td>\n",
       "      <td>0.052782</td>\n",
       "      <td>-0.024938</td>\n",
       "      <td>0.092983</td>\n",
       "      <td>-0.012938</td>\n",
       "      <td>0.005142</td>\n",
       "      <td>-0.102123</td>\n",
       "      <td>0.011810</td>\n",
       "      <td>...</td>\n",
       "      <td>-0.009816</td>\n",
       "      <td>0.017616</td>\n",
       "      <td>-0.000131</td>\n",
       "      <td>0.017999</td>\n",
       "      <td>0.036571</td>\n",
       "      <td>0.020096</td>\n",
       "      <td>0.009167</td>\n",
       "      <td>-0.006803</td>\n",
       "      <td>0.115777</td>\n",
       "      <td>-0.004109</td>\n",
       "      <td>-0.090463</td>\n",
       "      <td>0.019014</td>\n",
       "      <td>0.012626</td>\n",
       "      <td>-0.001332</td>\n",
       "      <td>-0.021302</td>\n",
       "      <td>-0.060607</td>\n",
       "      <td>0.019530</td>\n",
       "      <td>0.031620</td>\n",
       "      <td>0.000694</td>\n",
       "      <td>0.010891</td>\n",
       "      <td>-0.064190</td>\n",
       "      <td>0.010779</td>\n",
       "      <td>-0.095627</td>\n",
       "      <td>0.023837</td>\n",
       "      <td>-0.084793</td>\n",
       "      <td>0.020181</td>\n",
       "      <td>-0.012581</td>\n",
       "      <td>-0.069850</td>\n",
       "      <td>0.024224</td>\n",
       "      <td>-0.011057</td>\n",
       "      <td>0.001191</td>\n",
       "      <td>0.112578</td>\n",
       "      <td>-0.007709</td>\n",
       "      <td>0.020618</td>\n",
       "      <td>0.065250</td>\n",
       "      <td>-0.007783</td>\n",
       "      <td>-0.023703</td>\n",
       "      <td>0.040241</td>\n",
       "      <td>0.107656</td>\n",
       "      <td>-0.071257</td>\n",
       "    </tr>\n",
       "    <tr>\n",
       "      <th>3</th>\n",
       "      <td>-0.024952</td>\n",
       "      <td>-0.010374</td>\n",
       "      <td>0.068869</td>\n",
       "      <td>-0.070954</td>\n",
       "      <td>0.022150</td>\n",
       "      <td>0.053929</td>\n",
       "      <td>0.052644</td>\n",
       "      <td>0.046649</td>\n",
       "      <td>-0.035743</td>\n",
       "      <td>-0.036959</td>\n",
       "      <td>0.046963</td>\n",
       "      <td>-0.002650</td>\n",
       "      <td>0.005017</td>\n",
       "      <td>0.063040</td>\n",
       "      <td>0.016682</td>\n",
       "      <td>0.022022</td>\n",
       "      <td>0.087568</td>\n",
       "      <td>0.041525</td>\n",
       "      <td>0.022144</td>\n",
       "      <td>0.041212</td>\n",
       "      <td>-0.073730</td>\n",
       "      <td>-0.013436</td>\n",
       "      <td>-0.024336</td>\n",
       "      <td>-0.066921</td>\n",
       "      <td>0.069440</td>\n",
       "      <td>0.104658</td>\n",
       "      <td>0.004891</td>\n",
       "      <td>0.023838</td>\n",
       "      <td>-0.009325</td>\n",
       "      <td>0.065358</td>\n",
       "      <td>-0.057531</td>\n",
       "      <td>-0.020577</td>\n",
       "      <td>0.039386</td>\n",
       "      <td>0.053488</td>\n",
       "      <td>-0.008994</td>\n",
       "      <td>0.096150</td>\n",
       "      <td>0.016551</td>\n",
       "      <td>-0.034235</td>\n",
       "      <td>-0.126810</td>\n",
       "      <td>0.021680</td>\n",
       "      <td>...</td>\n",
       "      <td>-0.022575</td>\n",
       "      <td>0.010238</td>\n",
       "      <td>0.031019</td>\n",
       "      <td>-0.044451</td>\n",
       "      <td>0.062841</td>\n",
       "      <td>0.009866</td>\n",
       "      <td>0.022896</td>\n",
       "      <td>-0.012370</td>\n",
       "      <td>0.098666</td>\n",
       "      <td>0.024355</td>\n",
       "      <td>-0.044603</td>\n",
       "      <td>0.040729</td>\n",
       "      <td>-0.029721</td>\n",
       "      <td>-0.046783</td>\n",
       "      <td>-0.046932</td>\n",
       "      <td>-0.015393</td>\n",
       "      <td>-0.026052</td>\n",
       "      <td>-0.005283</td>\n",
       "      <td>0.037689</td>\n",
       "      <td>-0.005070</td>\n",
       "      <td>0.007285</td>\n",
       "      <td>-0.008600</td>\n",
       "      <td>-0.096406</td>\n",
       "      <td>0.013079</td>\n",
       "      <td>-0.086202</td>\n",
       "      <td>0.053493</td>\n",
       "      <td>-0.054767</td>\n",
       "      <td>-0.083388</td>\n",
       "      <td>-0.015044</td>\n",
       "      <td>-0.013344</td>\n",
       "      <td>0.021869</td>\n",
       "      <td>0.139338</td>\n",
       "      <td>0.027304</td>\n",
       "      <td>0.006924</td>\n",
       "      <td>0.006272</td>\n",
       "      <td>-0.012233</td>\n",
       "      <td>-0.030984</td>\n",
       "      <td>0.094089</td>\n",
       "      <td>0.047679</td>\n",
       "      <td>-0.078607</td>\n",
       "    </tr>\n",
       "    <tr>\n",
       "      <th>4</th>\n",
       "      <td>0.019844</td>\n",
       "      <td>-0.070693</td>\n",
       "      <td>-0.000085</td>\n",
       "      <td>-0.062304</td>\n",
       "      <td>-0.009906</td>\n",
       "      <td>0.045926</td>\n",
       "      <td>-0.021093</td>\n",
       "      <td>-0.010436</td>\n",
       "      <td>-0.027714</td>\n",
       "      <td>-0.018598</td>\n",
       "      <td>0.039704</td>\n",
       "      <td>-0.032597</td>\n",
       "      <td>-0.001419</td>\n",
       "      <td>0.056551</td>\n",
       "      <td>0.011976</td>\n",
       "      <td>0.036398</td>\n",
       "      <td>0.007728</td>\n",
       "      <td>-0.036512</td>\n",
       "      <td>0.015921</td>\n",
       "      <td>0.092876</td>\n",
       "      <td>-0.047502</td>\n",
       "      <td>0.012011</td>\n",
       "      <td>-0.027772</td>\n",
       "      <td>-0.050664</td>\n",
       "      <td>0.120199</td>\n",
       "      <td>0.040934</td>\n",
       "      <td>0.053072</td>\n",
       "      <td>0.042103</td>\n",
       "      <td>0.052571</td>\n",
       "      <td>0.085796</td>\n",
       "      <td>-0.071029</td>\n",
       "      <td>0.045712</td>\n",
       "      <td>0.045968</td>\n",
       "      <td>0.003975</td>\n",
       "      <td>-0.079383</td>\n",
       "      <td>0.064510</td>\n",
       "      <td>0.051110</td>\n",
       "      <td>-0.040950</td>\n",
       "      <td>-0.030486</td>\n",
       "      <td>-0.011293</td>\n",
       "      <td>...</td>\n",
       "      <td>-0.032107</td>\n",
       "      <td>0.039201</td>\n",
       "      <td>0.070408</td>\n",
       "      <td>-0.003537</td>\n",
       "      <td>-0.005644</td>\n",
       "      <td>0.029254</td>\n",
       "      <td>-0.025635</td>\n",
       "      <td>-0.032903</td>\n",
       "      <td>0.091567</td>\n",
       "      <td>0.056763</td>\n",
       "      <td>-0.089783</td>\n",
       "      <td>0.006580</td>\n",
       "      <td>0.000206</td>\n",
       "      <td>0.016613</td>\n",
       "      <td>0.023188</td>\n",
       "      <td>0.042304</td>\n",
       "      <td>-0.024841</td>\n",
       "      <td>0.050274</td>\n",
       "      <td>0.067967</td>\n",
       "      <td>0.009988</td>\n",
       "      <td>0.063644</td>\n",
       "      <td>-0.061733</td>\n",
       "      <td>-0.014438</td>\n",
       "      <td>0.017616</td>\n",
       "      <td>-0.025389</td>\n",
       "      <td>0.031376</td>\n",
       "      <td>-0.094808</td>\n",
       "      <td>-0.075471</td>\n",
       "      <td>-0.032125</td>\n",
       "      <td>0.024324</td>\n",
       "      <td>0.019302</td>\n",
       "      <td>0.131640</td>\n",
       "      <td>0.019268</td>\n",
       "      <td>0.054293</td>\n",
       "      <td>0.003779</td>\n",
       "      <td>0.045921</td>\n",
       "      <td>0.024729</td>\n",
       "      <td>0.017090</td>\n",
       "      <td>0.026887</td>\n",
       "      <td>-0.079948</td>\n",
       "    </tr>\n",
       "  </tbody>\n",
       "</table>\n",
       "<p>5 rows × 312 columns</p>\n",
       "</div>"
      ],
      "text/plain": [
       "        0         1         2    ...       309       310       311\n",
       "0 -0.021714 -0.042040  0.058279  ...  0.090894  0.085891 -0.072096\n",
       "1 -0.004629 -0.042766  0.067375  ...  0.052932  0.007319 -0.114169\n",
       "2 -0.019716 -0.038397  0.041032  ...  0.040241  0.107656 -0.071257\n",
       "3 -0.024952 -0.010374  0.068869  ...  0.094089  0.047679 -0.078607\n",
       "4  0.019844 -0.070693 -0.000085  ...  0.017090  0.026887 -0.079948\n",
       "\n",
       "[5 rows x 312 columns]"
      ]
     },
     "execution_count": 39,
     "metadata": {
      "tags": []
     },
     "output_type": "execute_result"
    }
   ],
   "source": [
    "df = pd.DataFrame(features.to_list(), columns=range(312))\n",
    "df.head(5)"
   ]
  },
  {
   "cell_type": "code",
   "execution_count": null,
   "metadata": {
    "id": "tAxK-Lu2yPZn"
   },
   "outputs": [],
   "source": [
    "from sklearn.model_selection import train_test_split\n",
    "from sklearn.linear_model import LogisticRegression\n",
    "from sklearn.model_selection import GridSearchCV\n",
    "from sklearn.model_selection import cross_val_score\n",
    "from sklearn.metrics import f1_score"
   ]
  },
  {
   "cell_type": "code",
   "execution_count": null,
   "metadata": {
    "colab": {
     "base_uri": "https://localhost:8080/",
     "height": 221
    },
    "executionInfo": {
     "elapsed": 483,
     "status": "ok",
     "timestamp": 1628499936877,
     "user": {
      "displayName": "Арина Шканова",
      "photoUrl": "",
      "userId": "05102528162079813689"
     },
     "user_tz": -180
    },
    "id": "fXYk62vlAOtd",
    "outputId": "1bdae9de-3273-4fd2-aebb-1b939ae622cb"
   },
   "outputs": [
    {
     "name": "stdout",
     "output_type": "stream",
     "text": [
      "(179802, 2)\n"
     ]
    },
    {
     "data": {
      "text/html": [
       "<div>\n",
       "<style scoped>\n",
       "    .dataframe tbody tr th:only-of-type {\n",
       "        vertical-align: middle;\n",
       "    }\n",
       "\n",
       "    .dataframe tbody tr th {\n",
       "        vertical-align: top;\n",
       "    }\n",
       "\n",
       "    .dataframe thead th {\n",
       "        text-align: right;\n",
       "    }\n",
       "</style>\n",
       "<table border=\"1\" class=\"dataframe\">\n",
       "  <thead>\n",
       "    <tr style=\"text-align: right;\">\n",
       "      <th></th>\n",
       "      <th>description</th>\n",
       "      <th>enpology</th>\n",
       "    </tr>\n",
       "  </thead>\n",
       "  <tbody>\n",
       "    <tr>\n",
       "      <th>179797</th>\n",
       "      <td>фото матов групповое фигурными краями подл ган...</td>\n",
       "      <td>14</td>\n",
       "    </tr>\n",
       "    <tr>\n",
       "      <th>179798</th>\n",
       "      <td>открытое письмо петродворец вид аллею фонтанов</td>\n",
       "      <td>8</td>\n",
       "    </tr>\n",
       "    <tr>\n",
       "      <th>179799</th>\n",
       "      <td>фото черно белое художник алексей кольцов фото...</td>\n",
       "      <td>14</td>\n",
       "    </tr>\n",
       "    <tr>\n",
       "      <th>179800</th>\n",
       "      <td>грампластинка</td>\n",
       "      <td>11</td>\n",
       "    </tr>\n",
       "    <tr>\n",
       "      <th>179801</th>\n",
       "      <td>этикетка спичечная коллекционная амурский тигр</td>\n",
       "      <td>11</td>\n",
       "    </tr>\n",
       "  </tbody>\n",
       "</table>\n",
       "</div>"
      ],
      "text/plain": [
       "                                              description  enpology\n",
       "179797  фото матов групповое фигурными краями подл ган...        14\n",
       "179798     открытое письмо петродворец вид аллею фонтанов         8\n",
       "179799  фото черно белое художник алексей кольцов фото...        14\n",
       "179800                                      грампластинка        11\n",
       "179801     этикетка спичечная коллекционная амурский тигр        11"
      ]
     },
     "execution_count": 41,
     "metadata": {
      "tags": []
     },
     "output_type": "execute_result"
    }
   ],
   "source": [
    "clean_description_big=pd.read_csv('clean_description_big.csv')\n",
    "print(clean_description_big.shape)\n",
    "clean_description_big.tail()"
   ]
  },
  {
   "cell_type": "code",
   "execution_count": null,
   "metadata": {
    "id": "-2ViLaDIyI4t"
   },
   "outputs": [],
   "source": [
    "train_features, test_features, train_labels, test_labels = train_test_split(df,  clean_description_big['enpology'])"
   ]
  },
  {
   "cell_type": "code",
   "execution_count": null,
   "metadata": {
    "colab": {
     "base_uri": "https://localhost:8080/"
    },
    "executionInfo": {
     "elapsed": 213966,
     "status": "ok",
     "timestamp": 1628431542217,
     "user": {
      "displayName": "Арина Шканова",
      "photoUrl": "",
      "userId": "05102528162079813689"
     },
     "user_tz": -180
    },
    "id": "a4vyPyhWyfAF",
    "outputId": "36d939ed-da5f-47a5-9cd8-dd2218bebd96"
   },
   "outputs": [
    {
     "data": {
      "text/plain": [
       "LogisticRegression(C=1.0, class_weight=None, dual=False, fit_intercept=True,\n",
       "                   intercept_scaling=1, l1_ratio=None, max_iter=1000,\n",
       "                   multi_class='auto', n_jobs=None, penalty='l2',\n",
       "                   random_state=None, solver='lbfgs', tol=0.0001, verbose=0,\n",
       "                   warm_start=False)"
      ]
     },
     "execution_count": 79,
     "metadata": {
      "tags": []
     },
     "output_type": "execute_result"
    }
   ],
   "source": [
    "lr_clf = LogisticRegression(max_iter=1000)\n",
    "lr_clf.fit(train_features, train_labels)"
   ]
  },
  {
   "cell_type": "code",
   "execution_count": null,
   "metadata": {
    "id": "45se3xMi4OA9"
   },
   "outputs": [],
   "source": [
    "lr_clf_pred = lr_clf.predict(test_features)"
   ]
  },
  {
   "cell_type": "code",
   "execution_count": null,
   "metadata": {
    "colab": {
     "base_uri": "https://localhost:8080/"
    },
    "executionInfo": {
     "elapsed": 238,
     "status": "ok",
     "timestamp": 1628432006190,
     "user": {
      "displayName": "Арина Шканова",
      "photoUrl": "",
      "userId": "05102528162079813689"
     },
     "user_tz": -180
    },
    "id": "-WOFQj5N5BG5",
    "outputId": "71286766-c745-445a-c951-55b763dfe793"
   },
   "outputs": [
    {
     "data": {
      "text/plain": [
       "(44951, 44951)"
      ]
     },
     "execution_count": 81,
     "metadata": {
      "tags": []
     },
     "output_type": "execute_result"
    }
   ],
   "source": [
    "len(lr_clf_pred), len(test_labels)"
   ]
  },
  {
   "cell_type": "code",
   "execution_count": null,
   "metadata": {
    "id": "GQZgAUTS3yK_"
   },
   "outputs": [],
   "source": [
    "lr_f1_score = f1_score(test_labels.values, lr_clf_pred, average='weighted')"
   ]
  },
  {
   "cell_type": "code",
   "execution_count": null,
   "metadata": {
    "colab": {
     "base_uri": "https://localhost:8080/"
    },
    "executionInfo": {
     "elapsed": 2,
     "status": "ok",
     "timestamp": 1628432028861,
     "user": {
      "displayName": "Арина Шканова",
      "photoUrl": "",
      "userId": "05102528162079813689"
     },
     "user_tz": -180
    },
    "id": "K34EHWVf4sfl",
    "outputId": "ac280ca9-4778-41ef-91f5-6d38047650ee"
   },
   "outputs": [
    {
     "data": {
      "text/plain": [
       "0.6300774414141161"
      ]
     },
     "execution_count": 83,
     "metadata": {
      "tags": []
     },
     "output_type": "execute_result"
    }
   ],
   "source": [
    "lr_f1_score"
   ]
  },
  {
   "cell_type": "code",
   "execution_count": null,
   "metadata": {
    "id": "zmgLscYm6RJ5"
   },
   "outputs": [],
   "source": [
    "import xgboost as xgb"
   ]
  },
  {
   "cell_type": "code",
   "execution_count": null,
   "metadata": {
    "colab": {
     "base_uri": "https://localhost:8080/"
    },
    "executionInfo": {
     "elapsed": 13185995,
     "status": "ok",
     "timestamp": 1628445226474,
     "user": {
      "displayName": "Арина Шканова",
      "photoUrl": "",
      "userId": "05102528162079813689"
     },
     "user_tz": -180
    },
    "id": "1HEwrQBd63g6",
    "outputId": "bd4cba78-3d2b-4da4-8082-1eec87e6d1c7"
   },
   "outputs": [
    {
     "data": {
      "text/plain": [
       "XGBClassifier(base_score=0.5, booster='gbtree', colsample_bylevel=1,\n",
       "              colsample_bynode=1, colsample_bytree=1, gamma=1,\n",
       "              learning_rate=0.07, max_delta_step=0, max_depth=10,\n",
       "              min_child_weight=1, missing=None, n_estimators=100, n_jobs=1,\n",
       "              nthread=None, objective='multi:softprob', random_state=0,\n",
       "              reg_alpha=0.1, reg_lambda=0.1, scale_pos_weight=1, seed=None,\n",
       "              silent=None, subsample=1, verbosity=1)"
      ]
     },
     "execution_count": 85,
     "metadata": {
      "tags": []
     },
     "output_type": "execute_result"
    }
   ],
   "source": [
    "clf_xgb = xgb.XGBClassifier(max_depth=10, n_estimators=100, subsample=1, learning_rate=0.07, reg_lambda=0.1, reg_alpha=0.1,\\\n",
    "                       gamma=1)\n",
    "clf_xgb.fit(train_features, train_labels)"
   ]
  },
  {
   "cell_type": "code",
   "execution_count": null,
   "metadata": {
    "id": "AlYJkEqd3dwk"
   },
   "outputs": [],
   "source": [
    "import pickle"
   ]
  },
  {
   "cell_type": "code",
   "execution_count": null,
   "metadata": {
    "id": "kH7I_tcX3gL9"
   },
   "outputs": [],
   "source": [
    "with open('model_for_text_xgboost.pkl','wb') as f:\n",
    "    pickle.dump(clf_xgb,f)"
   ]
  },
  {
   "cell_type": "code",
   "execution_count": null,
   "metadata": {
    "id": "u_DFae0trozy"
   },
   "outputs": [],
   "source": [
    "# load\n",
    "with open('model_for_text_xgboost.pkl', 'rb') as f:\n",
    "    clf_xgb = pickle.load(f)"
   ]
  },
  {
   "cell_type": "code",
   "execution_count": null,
   "metadata": {
    "id": "QlDdxUTjpA4h"
   },
   "outputs": [],
   "source": [
    "xgb_pred = clf_xgb.predict(test_features)"
   ]
  },
  {
   "cell_type": "code",
   "execution_count": null,
   "metadata": {
    "colab": {
     "base_uri": "https://localhost:8080/"
    },
    "executionInfo": {
     "elapsed": 372,
     "status": "ok",
     "timestamp": 1628500042551,
     "user": {
      "displayName": "Арина Шканова",
      "photoUrl": "",
      "userId": "05102528162079813689"
     },
     "user_tz": -180
    },
    "id": "Ijq-Ed8qyOXJ",
    "outputId": "4749e8ea-db91-4c82-cccb-0949c9063597"
   },
   "outputs": [
    {
     "data": {
      "text/plain": [
       "array([ 1,  7,  1, ..., 14,  8,  4])"
      ]
     },
     "execution_count": 47,
     "metadata": {
      "tags": []
     },
     "output_type": "execute_result"
    }
   ],
   "source": [
    "xgb_pred"
   ]
  },
  {
   "cell_type": "code",
   "execution_count": null,
   "metadata": {
    "colab": {
     "base_uri": "https://localhost:8080/"
    },
    "executionInfo": {
     "elapsed": 359,
     "status": "ok",
     "timestamp": 1628500048142,
     "user": {
      "displayName": "Арина Шканова",
      "photoUrl": "",
      "userId": "05102528162079813689"
     },
     "user_tz": -180
    },
    "id": "3MN12O0RxBLD",
    "outputId": "60998b31-40a7-42b9-ea3f-b2783cd5c9b6"
   },
   "outputs": [
    {
     "data": {
      "text/plain": [
       "numpy.ndarray"
      ]
     },
     "execution_count": 48,
     "metadata": {
      "tags": []
     },
     "output_type": "execute_result"
    }
   ],
   "source": [
    "type(xgb_pred)"
   ]
  },
  {
   "cell_type": "code",
   "execution_count": null,
   "metadata": {
    "colab": {
     "base_uri": "https://localhost:8080/"
    },
    "executionInfo": {
     "elapsed": 16,
     "status": "ok",
     "timestamp": 1628500049978,
     "user": {
      "displayName": "Арина Шканова",
      "photoUrl": "",
      "userId": "05102528162079813689"
     },
     "user_tz": -180
    },
    "id": "KABwmQKnxEyJ",
    "outputId": "3eb20fa9-b7fb-4838-c6e3-5af23f260b30"
   },
   "outputs": [
    {
     "data": {
      "text/plain": [
       "numpy.ndarray"
      ]
     },
     "execution_count": 49,
     "metadata": {
      "tags": []
     },
     "output_type": "execute_result"
    }
   ],
   "source": [
    "type(test_labels.values)"
   ]
  },
  {
   "cell_type": "code",
   "execution_count": null,
   "metadata": {
    "colab": {
     "base_uri": "https://localhost:8080/"
    },
    "executionInfo": {
     "elapsed": 442,
     "status": "ok",
     "timestamp": 1628500053868,
     "user": {
      "displayName": "Арина Шканова",
      "photoUrl": "",
      "userId": "05102528162079813689"
     },
     "user_tz": -180
    },
    "id": "nWBcKhXBwimH",
    "outputId": "23158a5b-043f-42b4-8472-2d83a09ae432"
   },
   "outputs": [
    {
     "data": {
      "text/plain": [
       "0.8933173131540203"
      ]
     },
     "execution_count": 50,
     "metadata": {
      "tags": []
     },
     "output_type": "execute_result"
    }
   ],
   "source": [
    "f1 = f1_score(test_labels.values, xgb_pred, average='weighted')\n",
    "f1"
   ]
  },
  {
   "cell_type": "code",
   "execution_count": null,
   "metadata": {
    "id": "ovybb1Dd2osO"
   },
   "outputs": [],
   "source": [
    "test_data=pd.read_csv('test_desc_only.csv')"
   ]
  },
  {
   "cell_type": "code",
   "execution_count": null,
   "metadata": {
    "colab": {
     "base_uri": "https://localhost:8080/",
     "height": 221
    },
    "executionInfo": {
     "elapsed": 502,
     "status": "ok",
     "timestamp": 1628260746262,
     "user": {
      "displayName": "Арина Шканова",
      "photoUrl": "",
      "userId": "05102528162079813689"
     },
     "user_tz": -180
    },
    "id": "rCsXp6UW5sXG",
    "outputId": "0f58712f-41fd-4baa-fa3a-0716fc658685"
   },
   "outputs": [
    {
     "name": "stdout",
     "output_type": "stream",
     "text": [
      "(676, 4)\n"
     ]
    },
    {
     "data": {
      "text/html": [
       "<div>\n",
       "<style scoped>\n",
       "    .dataframe tbody tr th:only-of-type {\n",
       "        vertical-align: middle;\n",
       "    }\n",
       "\n",
       "    .dataframe tbody tr th {\n",
       "        vertical-align: top;\n",
       "    }\n",
       "\n",
       "    .dataframe thead th {\n",
       "        text-align: right;\n",
       "    }\n",
       "</style>\n",
       "<table border=\"1\" class=\"dataframe\">\n",
       "  <thead>\n",
       "    <tr style=\"text-align: right;\">\n",
       "      <th></th>\n",
       "      <th>Unnamed: 0</th>\n",
       "      <th>guid</th>\n",
       "      <th>description</th>\n",
       "      <th>typology</th>\n",
       "    </tr>\n",
       "  </thead>\n",
       "  <tbody>\n",
       "    <tr>\n",
       "      <th>671</th>\n",
       "      <td>1215</td>\n",
       "      <td>b6e5611f-ce3f-4cd6-99ca-a6e8e529c2bb</td>\n",
       "      <td>Монета. 15 копеек</td>\n",
       "      <td>NaN</td>\n",
       "    </tr>\n",
       "    <tr>\n",
       "      <th>672</th>\n",
       "      <td>1216</td>\n",
       "      <td>7f84a349-fa7c-4dee-bb47-9974d0b30888</td>\n",
       "      <td>Монета. 10 копеек</td>\n",
       "      <td>NaN</td>\n",
       "    </tr>\n",
       "    <tr>\n",
       "      <th>673</th>\n",
       "      <td>1217</td>\n",
       "      <td>bf0e560c-535f-479e-97c0-9b3d7c577b3a</td>\n",
       "      <td>Монета. 10 копеек</td>\n",
       "      <td>NaN</td>\n",
       "    </tr>\n",
       "    <tr>\n",
       "      <th>674</th>\n",
       "      <td>1220</td>\n",
       "      <td>2519dcdf-3cb2-44cc-9a39-80ff704ca56d</td>\n",
       "      <td>Монета. 10 копеек</td>\n",
       "      <td>NaN</td>\n",
       "    </tr>\n",
       "    <tr>\n",
       "      <th>675</th>\n",
       "      <td>1222</td>\n",
       "      <td>3884278d-de78-4510-a077-d0223fef8ab2</td>\n",
       "      <td>Монета. 15 копеек</td>\n",
       "      <td>NaN</td>\n",
       "    </tr>\n",
       "  </tbody>\n",
       "</table>\n",
       "</div>"
      ],
      "text/plain": [
       "     Unnamed: 0  ... typology\n",
       "671        1215  ...      NaN\n",
       "672        1216  ...      NaN\n",
       "673        1217  ...      NaN\n",
       "674        1220  ...      NaN\n",
       "675        1222  ...      NaN\n",
       "\n",
       "[5 rows x 4 columns]"
      ]
     },
     "execution_count": 312,
     "metadata": {
      "tags": []
     },
     "output_type": "execute_result"
    }
   ],
   "source": [
    "print(test_data.shape)\n",
    "test_data.tail()"
   ]
  },
  {
   "cell_type": "code",
   "execution_count": null,
   "metadata": {
    "id": "txk9buUy5wq-"
   },
   "outputs": [],
   "source": []
  }
 ],
 "metadata": {
  "accelerator": "GPU",
  "colab": {
   "authorship_tag": "ABX9TyOkartuuHRwm52hOLkHkTUj",
   "mount_file_id": "1mKeQYllN0HncM1YZ579UDw7-CDozYz3O",
   "name": "nlp_museum2_test.ipynb",
   "provenance": []
  },
  "kernelspec": {
   "display_name": "Python 3 (ipykernel)",
   "language": "python",
   "name": "python3"
  },
  "language_info": {
   "codemirror_mode": {
    "name": "ipython",
    "version": 3
   },
   "file_extension": ".py",
   "mimetype": "text/x-python",
   "name": "python",
   "nbconvert_exporter": "python",
   "pygments_lexer": "ipython3",
   "version": "3.9.5"
  }
 },
 "nbformat": 4,
 "nbformat_minor": 1
}
